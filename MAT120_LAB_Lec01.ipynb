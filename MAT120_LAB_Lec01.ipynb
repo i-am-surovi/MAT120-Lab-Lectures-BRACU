{
  "nbformat": 4,
  "nbformat_minor": 0,
  "metadata": {
    "colab": {
      "provenance": []
    },
    "kernelspec": {
      "name": "python3",
      "display_name": "Python 3"
    },
    "language_info": {
      "name": "python"
    }
  },
  "cells": [
    {
      "cell_type": "markdown",
      "source": [
        "#Python **Basics** (Data types and variables)\n",
        "There are **three** basic data types in python. They are **Integers**,**Floating point numbers** and **Strings**. Here  is a quick demonstration of these data types"
      ],
      "metadata": {
        "id": "iNYCPGCbe3V2"
      }
    },
    {
      "cell_type": "markdown",
      "source": [
        "Data types and converting data types"
      ],
      "metadata": {
        "id": "nC7tNKNFM66n"
      }
    },
    {
      "cell_type": "code",
      "source": [
        "# Integers\n",
        "a=10\n",
        "print(a)\n",
        "print(type(a))\n",
        "# Floating point Numbers\n",
        "b=10.5\n",
        "print(type(b))\n",
        "# Strings\n",
        "c=\"Hellow world\"\n",
        "print(type(c))"
      ],
      "metadata": {
        "colab": {
          "base_uri": "https://localhost:8080/"
        },
        "id": "qqF3thDnFj5Y",
        "outputId": "f58ef492-1011-493e-c80f-1d0befb36474"
      },
      "execution_count": null,
      "outputs": [
        {
          "output_type": "stream",
          "name": "stdout",
          "text": [
            "10\n",
            "<class 'int'>\n",
            "<class 'float'>\n",
            "<class 'str'>\n"
          ]
        }
      ]
    },
    {
      "cell_type": "markdown",
      "source": [
        "# Variable Name and Constrains"
      ],
      "metadata": {
        "id": "2E7vvMrENGh2"
      }
    },
    {
      "cell_type": "markdown",
      "source": [
        "You can set almost whatever you want in the variable name. However there are constraints"
      ],
      "metadata": {
        "id": "0uu_RiXfH5nJ"
      }
    },
    {
      "cell_type": "code",
      "source": [
        "# can't set a variable name like this\n",
        "account balance=100 # can't have spaces\n",
        "42name=\"name\" # can't start with number\n",
        "True=\"laku\" # Reserve python words\n",
        "\n",
        "\n"
      ],
      "metadata": {
        "colab": {
          "base_uri": "https://localhost:8080/",
          "height": 131
        },
        "id": "OTV3TFtcHAEt",
        "outputId": "4481556f-3480-410b-db08-41c08c668a1a"
      },
      "execution_count": null,
      "outputs": [
        {
          "output_type": "error",
          "ename": "SyntaxError",
          "evalue": "ignored",
          "traceback": [
            "\u001b[0;36m  File \u001b[0;32m\"<ipython-input-24-d1f42cfe3b11>\"\u001b[0;36m, line \u001b[0;32m3\u001b[0m\n\u001b[0;31m    42name=\"name\" # can't start with number\u001b[0m\n\u001b[0m     ^\u001b[0m\n\u001b[0;31mSyntaxError\u001b[0m\u001b[0;31m:\u001b[0m invalid decimal literal\n"
          ]
        }
      ]
    },
    {
      "cell_type": "code",
      "source": [
        "print()=laku\n",
        "print()"
      ],
      "metadata": {
        "colab": {
          "base_uri": "https://localhost:8080/",
          "height": 148
        },
        "id": "jRBur6euK8Rk",
        "outputId": "5a9588ff-560a-4dc2-9c21-f2362ea508e0"
      },
      "execution_count": null,
      "outputs": [
        {
          "output_type": "error",
          "ename": "SyntaxError",
          "evalue": "ignored",
          "traceback": [
            "\u001b[0;36m  File \u001b[0;32m\"<ipython-input-25-60fca2dfda16>\"\u001b[0;36m, line \u001b[0;32m1\u001b[0m\n\u001b[0;31m    print()=laku\u001b[0m\n\u001b[0m    ^\u001b[0m\n\u001b[0;31mSyntaxError\u001b[0m\u001b[0;31m:\u001b[0m cannot assign to function call here. Maybe you meant '==' instead of '='?\n"
          ]
        }
      ]
    },
    {
      "cell_type": "markdown",
      "source": [
        "#string operations"
      ],
      "metadata": {
        "id": "4dEJxWEuQGZb"
      }
    },
    {
      "cell_type": "code",
      "source": [
        "echo=\"Hellow world. This is my first python code\""
      ],
      "metadata": {
        "id": "uuxKEdJWLVJ6"
      },
      "execution_count": null,
      "outputs": []
    },
    {
      "cell_type": "code",
      "source": [
        "echo.upper()"
      ],
      "metadata": {
        "colab": {
          "base_uri": "https://localhost:8080/",
          "height": 36
        },
        "id": "5mqUgxjiLfH0",
        "outputId": "90c3cb03-0883-417e-e406-22cc2832b56f"
      },
      "execution_count": null,
      "outputs": [
        {
          "output_type": "execute_result",
          "data": {
            "text/plain": [
              "'HELLOW WORLD. THIS IS MY FIRST PYTHON CODE'"
            ],
            "application/vnd.google.colaboratory.intrinsic+json": {
              "type": "string"
            }
          },
          "metadata": {},
          "execution_count": 58
        }
      ]
    },
    {
      "cell_type": "code",
      "source": [
        "echo.lower()"
      ],
      "metadata": {
        "colab": {
          "base_uri": "https://localhost:8080/",
          "height": 36
        },
        "id": "5cOSQ8H_oeuT",
        "outputId": "472101e1-8005-4222-a134-325dceb8d292"
      },
      "execution_count": null,
      "outputs": [
        {
          "output_type": "execute_result",
          "data": {
            "text/plain": [
              "'hellow world. this is my first python code'"
            ],
            "application/vnd.google.colaboratory.intrinsic+json": {
              "type": "string"
            }
          },
          "metadata": {},
          "execution_count": 59
        }
      ]
    },
    {
      "cell_type": "code",
      "source": [
        "echo.startswith('H')"
      ],
      "metadata": {
        "colab": {
          "base_uri": "https://localhost:8080/"
        },
        "id": "ERWTGlsOoiKs",
        "outputId": "7c398a9a-f43a-44ba-f87b-817677ef2249"
      },
      "execution_count": null,
      "outputs": [
        {
          "output_type": "execute_result",
          "data": {
            "text/plain": [
              "True"
            ]
          },
          "metadata": {},
          "execution_count": 63
        }
      ]
    },
    {
      "cell_type": "code",
      "source": [
        "print(\"i am \" + str( 23 ) + \" years old\")"
      ],
      "metadata": {
        "colab": {
          "base_uri": "https://localhost:8080/"
        },
        "id": "rqe_7LfrLioO",
        "outputId": "2ca82034-73dc-4eb1-b6a9-7a06a3a20e42"
      },
      "execution_count": null,
      "outputs": [
        {
          "output_type": "stream",
          "name": "stdout",
          "text": [
            "i am 23 years old\n"
          ]
        }
      ]
    },
    {
      "cell_type": "code",
      "source": [
        "y= str(x)\n"
      ],
      "metadata": {
        "id": "hA0NDGuQL55I"
      },
      "execution_count": null,
      "outputs": []
    },
    {
      "cell_type": "code",
      "source": [
        "type(y)"
      ],
      "metadata": {
        "colab": {
          "base_uri": "https://localhost:8080/"
        },
        "id": "b2QQupRPL1OX",
        "outputId": "703a737d-6ce5-4824-e64e-34d8b7fec120"
      },
      "execution_count": null,
      "outputs": [
        {
          "output_type": "execute_result",
          "data": {
            "text/plain": [
              "str"
            ]
          },
          "metadata": {},
          "execution_count": 39
        }
      ]
    },
    {
      "cell_type": "code",
      "source": [
        "age=input(\"What's your age:\")\n",
        "print(\"My age is:\",age)"
      ],
      "metadata": {
        "colab": {
          "base_uri": "https://localhost:8080/"
        },
        "id": "KWtDWz0DMOtD",
        "outputId": "72b6589a-1998-4722-859d-789be4dd535c"
      },
      "execution_count": null,
      "outputs": [
        {
          "output_type": "stream",
          "name": "stdout",
          "text": [
            "What's your age:22\n",
            "your age is: 22\n"
          ]
        }
      ]
    },
    {
      "cell_type": "markdown",
      "source": [
        "# Flow Control"
      ],
      "metadata": {
        "id": "enzZ9r7kMoVC"
      }
    },
    {
      "cell_type": "code",
      "source": [
        "# Boolean values\n",
        "is_raining= False\n",
        "not_raining= True"
      ],
      "metadata": {
        "id": "R-KYv0O_MGd1"
      },
      "execution_count": null,
      "outputs": []
    },
    {
      "cell_type": "code",
      "source": [
        "# if condition\n",
        "raining= False\n",
        "if raining:\n",
        "  print(\"it's raining. Better not to go out\")\n",
        "else:\n",
        "  print(\"It's not raining. We can go out now\")"
      ],
      "metadata": {
        "colab": {
          "base_uri": "https://localhost:8080/"
        },
        "id": "rxjy6pgWJD1_",
        "outputId": "829f5830-ea17-4733-e8c0-77342ff5ce02"
      },
      "execution_count": null,
      "outputs": [
        {
          "output_type": "stream",
          "name": "stdout",
          "text": [
            "It's not raining. We can go out now\n"
          ]
        }
      ]
    },
    {
      "cell_type": "code",
      "source": [
        "num=10\n",
        "guess=int(input(\"Enter your guess for the number:\"))\n",
        "if guess<num:\n",
        "  print (\"your guess is lower than the number\")\n",
        "elif guess>num:\n",
        "  print(\"Your guess is greater than the number\")\n",
        "else:\n",
        "  print(\"You just perfectly guess the number\")"
      ],
      "metadata": {
        "colab": {
          "base_uri": "https://localhost:8080/"
        },
        "id": "FKetjp9cONz9",
        "outputId": "98e0dc55-ca30-4914-86c0-4d62fb93ac45"
      },
      "execution_count": null,
      "outputs": [
        {
          "output_type": "stream",
          "name": "stdout",
          "text": [
            "Enter your guess for the number:10\n",
            "You just perfectly guess the number\n"
          ]
        }
      ]
    },
    {
      "cell_type": "markdown",
      "source": [
        "**While Loop**"
      ],
      "metadata": {
        "id": "54oAfacyPvmm"
      }
    },
    {
      "cell_type": "code",
      "source": [
        "total=0\n",
        "i=0\n",
        "while i<100:\n",
        "  total=total+i\n",
        "  i=i+1\n",
        "print(total)"
      ],
      "metadata": {
        "colab": {
          "base_uri": "https://localhost:8080/"
        },
        "id": "zoYmYbHbSYLa",
        "outputId": "d5e7e0ff-b9ab-4aab-ac65-c187c70a7e81"
      },
      "execution_count": null,
      "outputs": [
        {
          "output_type": "stream",
          "name": "stdout",
          "text": [
            "4950\n"
          ]
        }
      ]
    },
    {
      "cell_type": "code",
      "source": [
        "# Continue and break statement\n",
        "name=input(\"Enter your name:\")\n",
        "while True:\n",
        "  if name!=\"sirso\":\n",
        "    print(\"access denied and enter again\")\n",
        "    name=input()\n",
        "    continue\n",
        "  else:\n",
        "    print (\"access granted. welcome\")\n",
        "  break"
      ],
      "metadata": {
        "colab": {
          "base_uri": "https://localhost:8080/"
        },
        "id": "hxzXeJHLqRpC",
        "outputId": "ad449128-cea0-47e0-892b-7d9a20574cb2"
      },
      "execution_count": null,
      "outputs": [
        {
          "output_type": "stream",
          "name": "stdout",
          "text": [
            "Enter your name:laku \n",
            "access denied and enter again\n",
            "sirso \n",
            "access denied and enter again\n",
            "sirso\n",
            "access granted. welcome\n"
          ]
        }
      ]
    },
    {
      "cell_type": "markdown",
      "source": [
        "**For loop**"
      ],
      "metadata": {
        "id": "NwR0lz6iUpOb"
      }
    },
    {
      "cell_type": "code",
      "source": [
        "for i in range(10):\n",
        "  print(i)"
      ],
      "metadata": {
        "colab": {
          "base_uri": "https://localhost:8080/"
        },
        "id": "AM0oY8OcWOqP",
        "outputId": "ad088fb0-7292-4985-95a3-f3bc9f4ba5af"
      },
      "execution_count": null,
      "outputs": [
        {
          "output_type": "stream",
          "name": "stdout",
          "text": [
            "0\n",
            "1\n",
            "2\n",
            "3\n",
            "4\n",
            "5\n",
            "6\n",
            "7\n",
            "8\n",
            "9\n"
          ]
        }
      ]
    },
    {
      "cell_type": "code",
      "source": [
        "for i in range(10,1,-2):\n",
        "  print(i)\n"
      ],
      "metadata": {
        "colab": {
          "base_uri": "https://localhost:8080/"
        },
        "id": "pCOdxlY2WWOB",
        "outputId": "779cef4f-fe2f-4b26-f01d-ae3cf34ed50f"
      },
      "execution_count": null,
      "outputs": [
        {
          "output_type": "stream",
          "name": "stdout",
          "text": [
            "10\n",
            "8\n",
            "6\n",
            "4\n",
            "2\n"
          ]
        }
      ]
    },
    {
      "cell_type": "markdown",
      "source": [
        "**Importing module**"
      ],
      "metadata": {
        "id": "IupOuH0tWfQJ"
      }
    },
    {
      "cell_type": "code",
      "source": [
        "import random\n",
        "for i in range(5):\n",
        "  print(random.randint(1,100))"
      ],
      "metadata": {
        "colab": {
          "base_uri": "https://localhost:8080/"
        },
        "id": "dCKJWV9kXRnR",
        "outputId": "cbe0da0a-4694-45ab-a429-155b146d877f"
      },
      "execution_count": null,
      "outputs": [
        {
          "output_type": "stream",
          "name": "stdout",
          "text": [
            "91\n",
            "89\n",
            "61\n",
            "6\n",
            "51\n"
          ]
        }
      ]
    },
    {
      "cell_type": "code",
      "source": [
        "s=\"integral\"\n",
        "for index,letter in enumerate(s):\n",
        "  print(letter,index)"
      ],
      "metadata": {
        "id": "cjBI1pLtnzsB",
        "colab": {
          "base_uri": "https://localhost:8080/"
        },
        "outputId": "3cd5eee1-01cc-46d5-9891-2d42d64f12cf"
      },
      "execution_count": null,
      "outputs": [
        {
          "output_type": "stream",
          "name": "stdout",
          "text": [
            "i 0\n",
            "n 1\n",
            "t 2\n",
            "e 3\n",
            "g 4\n",
            "r 5\n",
            "a 6\n",
            "l 7\n"
          ]
        }
      ]
    },
    {
      "cell_type": "markdown",
      "source": [
        "# Functions"
      ],
      "metadata": {
        "id": "ep7SDZVZXlih"
      }
    },
    {
      "cell_type": "code",
      "source": [
        "def welcome(name):\n",
        "  print(\"Hello \"+ name +\". Welcome to Department of Mathematics and Natural Sciences\")\n"
      ],
      "metadata": {
        "id": "orP7P_UtYgrI"
      },
      "execution_count": null,
      "outputs": []
    },
    {
      "cell_type": "code",
      "source": [
        "welcome(\"Sirso\")"
      ],
      "metadata": {
        "colab": {
          "base_uri": "https://localhost:8080/"
        },
        "id": "Z9fUuB9EqrO9",
        "outputId": "aee8b948-55d3-447e-9004-b9305940b67e"
      },
      "execution_count": null,
      "outputs": [
        {
          "output_type": "stream",
          "name": "stdout",
          "text": [
            "Hello Sirso. Welcome to Department of Mathematics and Natural Sciences\n"
          ]
        }
      ]
    },
    {
      "cell_type": "code",
      "source": [
        "def square(x):\n",
        "  return x*x"
      ],
      "metadata": {
        "id": "Ov0XX4gKq6PQ"
      },
      "execution_count": null,
      "outputs": []
    },
    {
      "cell_type": "code",
      "source": [
        "square(5)"
      ],
      "metadata": {
        "colab": {
          "base_uri": "https://localhost:8080/"
        },
        "id": "6my5SJwBy06n",
        "outputId": "894a7d8a-d1e9-4df4-c942-c7db4806b551"
      },
      "execution_count": null,
      "outputs": [
        {
          "output_type": "execute_result",
          "data": {
            "text/plain": [
              "25"
            ]
          },
          "metadata": {},
          "execution_count": 86
        }
      ]
    },
    {
      "cell_type": "markdown",
      "source": [
        "# Data structure\n",
        "There are a few build-in data structure a in python. Among them **List** is multifunctional, fast and easily to handle. **List** opens with third bracket."
      ],
      "metadata": {
        "id": "-Trhhb4YYyMR"
      }
    },
    {
      "cell_type": "code",
      "source": [
        "a=[10,10,10,10,\"laku\"]"
      ],
      "metadata": {
        "id": "AVh0pFWlZp86"
      },
      "execution_count": null,
      "outputs": []
    },
    {
      "cell_type": "code",
      "source": [
        "a[1::2]"
      ],
      "metadata": {
        "colab": {
          "base_uri": "https://localhost:8080/"
        },
        "id": "AueI23_zaC_f",
        "outputId": "f2acf5fa-c824-4fca-c865-65d61a82d824"
      },
      "execution_count": null,
      "outputs": [
        {
          "output_type": "execute_result",
          "data": {
            "text/plain": [
              "[10, 10]"
            ]
          },
          "metadata": {},
          "execution_count": 73
        }
      ]
    },
    {
      "cell_type": "code",
      "source": [
        "fruits=[\"orange\", \"banana\", \"mango\", \"licchi\"]"
      ],
      "metadata": {
        "id": "imw8fnluaIeE"
      },
      "execution_count": null,
      "outputs": []
    },
    {
      "cell_type": "code",
      "source": [
        "for each_item in fruits:\n",
        "  print(each_item)"
      ],
      "metadata": {
        "colab": {
          "base_uri": "https://localhost:8080/"
        },
        "id": "At7mpgM4aibB",
        "outputId": "a64adc41-c27d-4417-da06-a8010b4a1ec6"
      },
      "execution_count": null,
      "outputs": [
        {
          "output_type": "stream",
          "name": "stdout",
          "text": [
            "orange\n",
            "banana\n",
            "mango\n",
            "licchi\n"
          ]
        }
      ]
    },
    {
      "cell_type": "code",
      "source": [
        "# Use of random module in a list\n",
        "random.choice(fruits)"
      ],
      "metadata": {
        "colab": {
          "base_uri": "https://localhost:8080/",
          "height": 35
        },
        "id": "UgZg2oDVbJZy",
        "outputId": "91184ecc-da4b-4cb3-d1dc-5ff0b1ca70f7"
      },
      "execution_count": null,
      "outputs": [
        {
          "output_type": "execute_result",
          "data": {
            "text/plain": [
              "'mango'"
            ],
            "application/vnd.google.colaboratory.intrinsic+json": {
              "type": "string"
            }
          },
          "metadata": {},
          "execution_count": 87
        }
      ]
    },
    {
      "cell_type": "markdown",
      "source": [
        "**Tuple** are enclosed with first bracket."
      ],
      "metadata": {
        "id": "t3Hd0YAyb2yJ"
      }
    },
    {
      "cell_type": "code",
      "source": [
        "a=(10,56,45, 54,23,10)"
      ],
      "metadata": {
        "id": "rP7hV2hWbGm0"
      },
      "execution_count": null,
      "outputs": []
    },
    {
      "cell_type": "code",
      "source": [
        "b=(10,5)"
      ],
      "metadata": {
        "id": "CAQPZ-GCzpR4"
      },
      "execution_count": null,
      "outputs": []
    },
    {
      "cell_type": "code",
      "source": [
        "a.count(10)"
      ],
      "metadata": {
        "colab": {
          "base_uri": "https://localhost:8080/"
        },
        "id": "vv8myi-jchiV",
        "outputId": "038b74b8-c6c6-45d6-8ad6-d1a3d7fe27a1"
      },
      "execution_count": null,
      "outputs": [
        {
          "output_type": "execute_result",
          "data": {
            "text/plain": [
              "2"
            ]
          },
          "metadata": {},
          "execution_count": 11
        }
      ]
    },
    {
      "cell_type": "code",
      "source": [
        "# Unpacking tuple\n",
        "x,y=b\n",
        "x"
      ],
      "metadata": {
        "id": "8q2VuWIEzawW",
        "colab": {
          "base_uri": "https://localhost:8080/"
        },
        "outputId": "27368d36-95eb-4fd7-f751-ffd6e099fd76"
      },
      "execution_count": null,
      "outputs": [
        {
          "output_type": "execute_result",
          "data": {
            "text/plain": [
              "10"
            ]
          },
          "metadata": {},
          "execution_count": 16
        }
      ]
    },
    {
      "cell_type": "markdown",
      "source": [
        "**Dictionaries**"
      ],
      "metadata": {
        "id": "RN5GLTxuctEO"
      }
    },
    {
      "cell_type": "code",
      "source": [
        "student_record={\n",
        "    \"name\": \"sirso\",\n",
        "    \"age\": 18,\n",
        "    \"birthday\": \"09/09/1998\",\n",
        "    \"grade\": 4.00\n",
        "}"
      ],
      "metadata": {
        "id": "2dnb6zBicnK2"
      },
      "execution_count": null,
      "outputs": []
    },
    {
      "cell_type": "code",
      "source": [
        "# Change value of key\n",
        "student_record[\"age\"]=19"
      ],
      "metadata": {
        "id": "ibWDi4DpAvcu"
      },
      "execution_count": null,
      "outputs": []
    },
    {
      "cell_type": "code",
      "source": [
        "# Access key value\n",
        "student_record[\"age\"]"
      ],
      "metadata": {
        "colab": {
          "base_uri": "https://localhost:8080/"
        },
        "id": "O_RpVy_tA2JE",
        "outputId": "68477c27-fc3a-4608-f9d4-1f50710771d6"
      },
      "execution_count": null,
      "outputs": [
        {
          "output_type": "execute_result",
          "data": {
            "text/plain": [
              "19"
            ]
          },
          "metadata": {},
          "execution_count": 79
        }
      ]
    },
    {
      "cell_type": "code",
      "source": [
        "# Print the whole dictionary\n",
        "student_record"
      ],
      "metadata": {
        "colab": {
          "base_uri": "https://localhost:8080/"
        },
        "id": "4d_7qwi-BGJg",
        "outputId": "eeee96bc-d775-4145-a425-6b801646f1d9"
      },
      "execution_count": null,
      "outputs": [
        {
          "output_type": "execute_result",
          "data": {
            "text/plain": [
              "{'name': 'sirso',\n",
              " 'age': 19,\n",
              " 'birthday': '09/09/1998',\n",
              " 'grade': 4.0,\n",
              " 'id': 1612020}"
            ]
          },
          "metadata": {},
          "execution_count": 86
        }
      ]
    },
    {
      "cell_type": "code",
      "source": [
        "# Adding more key-value pair\n",
        "if \"bank_acc\" not in student_record:\n",
        "  student_record[\"bank_acc\"]=440440634\n",
        "else:\n",
        "  print(\"bank_acc is in student record\")"
      ],
      "metadata": {
        "id": "AXnzKsWNBIo3"
      },
      "execution_count": null,
      "outputs": []
    },
    {
      "cell_type": "code",
      "source": [
        "for key in student_record:\n",
        "  print(key,student_record[key])"
      ],
      "metadata": {
        "colab": {
          "base_uri": "https://localhost:8080/"
        },
        "id": "KWbK5NzZCC_u",
        "outputId": "6096b408-dac0-455e-b8c2-1be1370ee685"
      },
      "execution_count": null,
      "outputs": [
        {
          "output_type": "stream",
          "name": "stdout",
          "text": [
            "name sirso\n",
            "age 19\n",
            "birthday 09/09/1998\n",
            "grade 4.0\n",
            "id 1612020\n",
            "bank_acc 440440634\n"
          ]
        }
      ]
    },
    {
      "cell_type": "markdown",
      "source": [
        "**Set** opens and ends with curly braces."
      ],
      "metadata": {
        "id": "jHa5Hjx_a_1j"
      }
    },
    {
      "cell_type": "code",
      "source": [
        "# Creating Set\n",
        "set_A={1,2,3}\n",
        "set_A.add(3)"
      ],
      "metadata": {
        "id": "TPK8BHTjEJNi"
      },
      "execution_count": null,
      "outputs": []
    },
    {
      "cell_type": "code",
      "source": [
        "set_A"
      ],
      "metadata": {
        "colab": {
          "base_uri": "https://localhost:8080/"
        },
        "id": "jxWHRO0VEU3H",
        "outputId": "0854e7c4-ebe8-450c-c114-5f70a1ee6307"
      },
      "execution_count": null,
      "outputs": [
        {
          "output_type": "execute_result",
          "data": {
            "text/plain": [
              "{1, 2, 3}"
            ]
          },
          "metadata": {},
          "execution_count": 18
        }
      ]
    },
    {
      "cell_type": "code",
      "source": [
        "set_B={1,4,5,6}\n",
        "set_B.discard(5)\n",
        "set_B\n"
      ],
      "metadata": {
        "colab": {
          "base_uri": "https://localhost:8080/"
        },
        "id": "Fw9fh2fvEY8r",
        "outputId": "2c52b5e5-4a47-4512-a0b5-67a7177cb08e"
      },
      "execution_count": null,
      "outputs": [
        {
          "output_type": "execute_result",
          "data": {
            "text/plain": [
              "{1, 4, 6}"
            ]
          },
          "metadata": {},
          "execution_count": 19
        }
      ]
    },
    {
      "cell_type": "code",
      "source": [
        "# Union of sets\n",
        "set_A | set_B"
      ],
      "metadata": {
        "colab": {
          "base_uri": "https://localhost:8080/"
        },
        "id": "Wns3aSLpEjXb",
        "outputId": "d4ba52c8-60fe-44a9-f954-d0182c0ea1ca"
      },
      "execution_count": null,
      "outputs": [
        {
          "output_type": "execute_result",
          "data": {
            "text/plain": [
              "{1, 2, 3, 4, 5, 6}"
            ]
          },
          "metadata": {},
          "execution_count": 100
        }
      ]
    },
    {
      "cell_type": "markdown",
      "source": [
        "# Error Handling\n",
        "**try** and **except** is super useful for handling errors in python code."
      ],
      "metadata": {
        "id": "49Bmc6sbEXCY"
      }
    },
    {
      "cell_type": "code",
      "source": [
        "try:\n",
        "  print(1/0)\n",
        "except :\n",
        "  print('you should go here')"
      ],
      "metadata": {
        "colab": {
          "base_uri": "https://localhost:8080/"
        },
        "id": "ExFECJ-2x2Vn",
        "outputId": "b6fdb8cd-d96d-482e-db48-ea3bab212bb9"
      },
      "execution_count": null,
      "outputs": [
        {
          "output_type": "stream",
          "name": "stdout",
          "text": [
            "you should go here\n"
          ]
        }
      ]
    },
    {
      "cell_type": "code",
      "source": [
        "try:\n",
        "  print(1/0)\n",
        "except ZeroDivisionError:\n",
        "  print('you should go here')"
      ],
      "metadata": {
        "colab": {
          "base_uri": "https://localhost:8080/"
        },
        "id": "y0mCuOkgyG_k",
        "outputId": "4e36eab2-5770-4bd5-8f47-ef47e0f4de84"
      },
      "execution_count": null,
      "outputs": [
        {
          "output_type": "stream",
          "name": "stdout",
          "text": [
            "you should go here\n"
          ]
        }
      ]
    },
    {
      "cell_type": "code",
      "source": [
        "try:\n",
        "  print(1/0)\n",
        "except NameError:\n",
        "  print('you should not go here')"
      ],
      "metadata": {
        "colab": {
          "base_uri": "https://localhost:8080/",
          "height": 218
        },
        "id": "qOUISLkuyIjR",
        "outputId": "2b214cf4-96dd-4f7e-b27b-6017103dface"
      },
      "execution_count": null,
      "outputs": [
        {
          "output_type": "error",
          "ename": "ZeroDivisionError",
          "evalue": "ignored",
          "traceback": [
            "\u001b[0;31m---------------------------------------------------------------------------\u001b[0m",
            "\u001b[0;31mZeroDivisionError\u001b[0m                         Traceback (most recent call last)",
            "\u001b[0;32m<ipython-input-22-40e2d80e782d>\u001b[0m in \u001b[0;36m<cell line: 1>\u001b[0;34m()\u001b[0m\n\u001b[1;32m      1\u001b[0m \u001b[0;32mtry\u001b[0m\u001b[0;34m:\u001b[0m\u001b[0;34m\u001b[0m\u001b[0;34m\u001b[0m\u001b[0m\n\u001b[0;32m----> 2\u001b[0;31m   \u001b[0mprint\u001b[0m\u001b[0;34m(\u001b[0m\u001b[0;36m1\u001b[0m\u001b[0;34m/\u001b[0m\u001b[0;36m0\u001b[0m\u001b[0;34m)\u001b[0m\u001b[0;34m\u001b[0m\u001b[0;34m\u001b[0m\u001b[0m\n\u001b[0m\u001b[1;32m      3\u001b[0m \u001b[0;32mexcept\u001b[0m \u001b[0mNameError\u001b[0m\u001b[0;34m:\u001b[0m\u001b[0;34m\u001b[0m\u001b[0;34m\u001b[0m\u001b[0m\n\u001b[1;32m      4\u001b[0m   \u001b[0mprint\u001b[0m\u001b[0;34m(\u001b[0m\u001b[0;34m'you should not go here'\u001b[0m\u001b[0;34m)\u001b[0m\u001b[0;34m\u001b[0m\u001b[0;34m\u001b[0m\u001b[0m\n",
            "\u001b[0;31mZeroDivisionError\u001b[0m: division by zero"
          ]
        }
      ]
    },
    {
      "cell_type": "markdown",
      "source": [
        "# Introduction to Numpy Module"
      ],
      "metadata": {
        "id": "6-Me3DJ-a5tY"
      }
    },
    {
      "cell_type": "code",
      "source": [
        "import numpy as np"
      ],
      "metadata": {
        "id": "Bm3VWplZa16h"
      },
      "execution_count": null,
      "outputs": []
    },
    {
      "cell_type": "code",
      "source": [
        "a=np.array([10,20,30])"
      ],
      "metadata": {
        "id": "EBAcyzwP3WxM"
      },
      "execution_count": null,
      "outputs": []
    },
    {
      "cell_type": "code",
      "source": [
        "b=np.zeros(5)"
      ],
      "metadata": {
        "id": "FJDo6phbacOO"
      },
      "execution_count": null,
      "outputs": []
    },
    {
      "cell_type": "code",
      "source": [
        "b"
      ],
      "metadata": {
        "colab": {
          "base_uri": "https://localhost:8080/"
        },
        "id": "uBpejZ4o3rrL",
        "outputId": "38659cda-25f7-4e26-fdd9-2a506fe2d798"
      },
      "execution_count": null,
      "outputs": [
        {
          "output_type": "execute_result",
          "data": {
            "text/plain": [
              "array([0., 0., 0., 0., 0.])"
            ]
          },
          "metadata": {},
          "execution_count": 33
        }
      ]
    },
    {
      "cell_type": "code",
      "source": [
        "np.ones(50)"
      ],
      "metadata": {
        "colab": {
          "base_uri": "https://localhost:8080/"
        },
        "id": "MfBu9WDr3suE",
        "outputId": "a394f801-63ec-4a35-fe28-9cd477a67aec"
      },
      "execution_count": null,
      "outputs": [
        {
          "output_type": "execute_result",
          "data": {
            "text/plain": [
              "array([1., 1., 1., 1., 1., 1., 1., 1., 1., 1., 1., 1., 1., 1., 1., 1., 1.,\n",
              "       1., 1., 1., 1., 1., 1., 1., 1., 1., 1., 1., 1., 1., 1., 1., 1., 1.,\n",
              "       1., 1., 1., 1., 1., 1., 1., 1., 1., 1., 1., 1., 1., 1., 1., 1.])"
            ]
          },
          "metadata": {},
          "execution_count": 35
        }
      ]
    },
    {
      "cell_type": "code",
      "source": [
        "c=np.arange(1,10,2)\n",
        "c"
      ],
      "metadata": {
        "colab": {
          "base_uri": "https://localhost:8080/"
        },
        "id": "o6fBBjay33W-",
        "outputId": "d7a28381-8824-4ff2-8a8c-8a6b86567cbc"
      },
      "execution_count": null,
      "outputs": [
        {
          "output_type": "execute_result",
          "data": {
            "text/plain": [
              "array([1, 3, 5, 7, 9])"
            ]
          },
          "metadata": {},
          "execution_count": 24
        }
      ]
    },
    {
      "cell_type": "code",
      "source": [
        "np.sin(c)"
      ],
      "metadata": {
        "colab": {
          "base_uri": "https://localhost:8080/"
        },
        "id": "fW1rdGpo3-vP",
        "outputId": "b5de1b82-4da4-4d92-8392-b0e1422f3ad5"
      },
      "execution_count": null,
      "outputs": [
        {
          "output_type": "execute_result",
          "data": {
            "text/plain": [
              "array([ 0.84147098,  0.14112001, -0.95892427,  0.6569866 ,  0.41211849])"
            ]
          },
          "metadata": {},
          "execution_count": 47
        }
      ]
    },
    {
      "cell_type": "code",
      "source": [
        "np.cos(c)"
      ],
      "metadata": {
        "colab": {
          "base_uri": "https://localhost:8080/"
        },
        "id": "vGA7DaYw5Onr",
        "outputId": "6f943f50-4a69-498a-ca1e-6ab5a6c3a2ee"
      },
      "execution_count": null,
      "outputs": [
        {
          "output_type": "execute_result",
          "data": {
            "text/plain": [
              "array([ 0.54030231, -0.9899925 ,  0.28366219,  0.75390225, -0.91113026])"
            ]
          },
          "metadata": {},
          "execution_count": 48
        }
      ]
    },
    {
      "cell_type": "code",
      "source": [
        "np.sum(c)"
      ],
      "metadata": {
        "colab": {
          "base_uri": "https://localhost:8080/"
        },
        "id": "tKR3z2o65jeK",
        "outputId": "df77294d-7ac7-45ed-8a17-d35eb97199ac"
      },
      "execution_count": null,
      "outputs": [
        {
          "output_type": "execute_result",
          "data": {
            "text/plain": [
              "25"
            ]
          },
          "metadata": {},
          "execution_count": 49
        }
      ]
    },
    {
      "cell_type": "code",
      "source": [
        "d=np.arange(0,50,1)\n",
        "d"
      ],
      "metadata": {
        "id": "so8mdMP75mU7",
        "colab": {
          "base_uri": "https://localhost:8080/"
        },
        "outputId": "b09563ec-122c-455b-c4f9-bcff1a82b9eb"
      },
      "execution_count": null,
      "outputs": [
        {
          "output_type": "execute_result",
          "data": {
            "text/plain": [
              "array([ 0,  1,  2,  3,  4,  5,  6,  7,  8,  9, 10, 11, 12, 13, 14, 15, 16,\n",
              "       17, 18, 19, 20, 21, 22, 23, 24, 25, 26, 27, 28, 29, 30, 31, 32, 33,\n",
              "       34, 35, 36, 37, 38, 39, 40, 41, 42, 43, 44, 45, 46, 47, 48, 49])"
            ]
          },
          "metadata": {},
          "execution_count": 25
        }
      ]
    },
    {
      "cell_type": "code",
      "source": [
        "len(d)"
      ],
      "metadata": {
        "colab": {
          "base_uri": "https://localhost:8080/"
        },
        "id": "B8sbH4d26QNd",
        "outputId": "e7eeb686-1ae0-48ee-ada1-6511ac14d804"
      },
      "execution_count": null,
      "outputs": [
        {
          "output_type": "execute_result",
          "data": {
            "text/plain": [
              "50"
            ]
          },
          "metadata": {},
          "execution_count": 59
        }
      ]
    },
    {
      "cell_type": "code",
      "source": [
        "e=np.reshape(d,(5,10))"
      ],
      "metadata": {
        "id": "uFg-K8gJ6Shs"
      },
      "execution_count": null,
      "outputs": []
    },
    {
      "cell_type": "code",
      "source": [
        "e.shape"
      ],
      "metadata": {
        "colab": {
          "base_uri": "https://localhost:8080/"
        },
        "id": "Mfs1K4Z26d47",
        "outputId": "e7683947-3c19-4abc-86f0-7c65c54d1eb1"
      },
      "execution_count": null,
      "outputs": [
        {
          "output_type": "execute_result",
          "data": {
            "text/plain": [
              "(5, 10)"
            ]
          },
          "metadata": {},
          "execution_count": 63
        }
      ]
    },
    {
      "cell_type": "code",
      "source": [
        "e"
      ],
      "metadata": {
        "colab": {
          "base_uri": "https://localhost:8080/"
        },
        "id": "d2D4HSuJ6o0M",
        "outputId": "f68cd6a3-2168-47f2-b104-b4284147ccb2"
      },
      "execution_count": null,
      "outputs": [
        {
          "output_type": "execute_result",
          "data": {
            "text/plain": [
              "array([[ 0,  1,  2,  3,  4,  5,  6,  7,  8,  9],\n",
              "       [10, 11, 12, 13, 14, 15, 16, 17, 18, 19],\n",
              "       [20, 21, 22, 23, 24, 25, 26, 27, 28, 29],\n",
              "       [30, 31, 32, 33, 34, 35, 36, 37, 38, 39],\n",
              "       [40, 41, 42, 43, 44, 45, 46, 47, 48, 49]])"
            ]
          },
          "metadata": {},
          "execution_count": 64
        }
      ]
    },
    {
      "cell_type": "code",
      "source": [
        "np.transpose(e)"
      ],
      "metadata": {
        "colab": {
          "base_uri": "https://localhost:8080/"
        },
        "id": "wlkyd9r76tKW",
        "outputId": "b6c25360-04ff-46d2-8a02-7a3fc6c61033"
      },
      "execution_count": null,
      "outputs": [
        {
          "output_type": "execute_result",
          "data": {
            "text/plain": [
              "array([[ 0, 10, 20, 30, 40],\n",
              "       [ 1, 11, 21, 31, 41],\n",
              "       [ 2, 12, 22, 32, 42],\n",
              "       [ 3, 13, 23, 33, 43],\n",
              "       [ 4, 14, 24, 34, 44],\n",
              "       [ 5, 15, 25, 35, 45],\n",
              "       [ 6, 16, 26, 36, 46],\n",
              "       [ 7, 17, 27, 37, 47],\n",
              "       [ 8, 18, 28, 38, 48],\n",
              "       [ 9, 19, 29, 39, 49]])"
            ]
          },
          "metadata": {},
          "execution_count": 67
        }
      ]
    },
    {
      "cell_type": "code",
      "source": [
        "e+2"
      ],
      "metadata": {
        "colab": {
          "base_uri": "https://localhost:8080/"
        },
        "id": "g0wnIyq960Ex",
        "outputId": "0fec15cf-1817-49f2-ffbc-ff4d2912a7da"
      },
      "execution_count": null,
      "outputs": [
        {
          "output_type": "execute_result",
          "data": {
            "text/plain": [
              "array([[ 2,  3,  4,  5,  6,  7,  8,  9, 10, 11],\n",
              "       [12, 13, 14, 15, 16, 17, 18, 19, 20, 21],\n",
              "       [22, 23, 24, 25, 26, 27, 28, 29, 30, 31],\n",
              "       [32, 33, 34, 35, 36, 37, 38, 39, 40, 41],\n",
              "       [42, 43, 44, 45, 46, 47, 48, 49, 50, 51]])"
            ]
          },
          "metadata": {},
          "execution_count": 71
        }
      ]
    },
    {
      "cell_type": "markdown",
      "source": [
        "#Read More\n",
        "\n",
        "1. https://automatetheboringstuff.com/\n",
        "2. https://www.youtube.com/watch?v=_uQrJ0TkZlc&ab_channel=ProgrammingwithMosh\n",
        "3. https://www.3blue1brown.com/topics/calculus\n",
        "\n"
      ],
      "metadata": {
        "id": "DIMnITrnztAD"
      }
    }
  ]
}