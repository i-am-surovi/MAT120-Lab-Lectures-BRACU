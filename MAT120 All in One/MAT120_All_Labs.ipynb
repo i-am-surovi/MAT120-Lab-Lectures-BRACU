{
  "cells": [
    {
      "cell_type": "markdown",
      "source": [
        "# **Sumaiya Hossain Surovi**"
      ],
      "metadata": {
        "id": "5H20HMKSCoGV"
      }
    },
    {
      "cell_type": "markdown",
      "metadata": {
        "id": "rNsJoEydbkJP"
      },
      "source": [
        "Assignment - 5*2 = 10\\\n",
        "quiz/presentaion - 5\\\n",
        "Attendence - 5  "
      ]
    },
    {
      "cell_type": "markdown",
      "source": [
        "# New Section"
      ],
      "metadata": {
        "id": "hP58QXMLPCad"
      }
    },
    {
      "cell_type": "markdown",
      "metadata": {
        "id": "iKIa_ZhRTa_k"
      },
      "source": [
        "# Lab 01 - Basic Math\n"
      ]
    },
    {
      "cell_type": "code",
      "execution_count": null,
      "metadata": {
        "colab": {
          "base_uri": "https://localhost:8080/"
        },
        "id": "fHYUvC6vQ2q8",
        "outputId": "77d330ca-9b35-4513-a57b-f234d9f9760b"
      },
      "outputs": [
        {
          "name": "stdout",
          "output_type": "stream",
          "text": [
            "<class 'float'>\n"
          ]
        }
      ],
      "source": [
        "# Creating Float\n",
        "a = 9.5\n",
        "print(type(a))"
      ]
    },
    {
      "cell_type": "code",
      "execution_count": null,
      "metadata": {
        "colab": {
          "base_uri": "https://localhost:8080/"
        },
        "id": "1-OdTglkSHrD",
        "outputId": "bd3bff30-55ff-4909-d826-61ad0a518baf"
      },
      "outputs": [
        {
          "data": {
            "text/plain": [
              "float"
            ]
          },
          "execution_count": 2,
          "metadata": {},
          "output_type": "execute_result"
        }
      ],
      "source": [
        "type(a)"
      ]
    },
    {
      "cell_type": "code",
      "execution_count": null,
      "metadata": {
        "colab": {
          "base_uri": "https://localhost:8080/"
        },
        "id": "JKztA53ZSLxK",
        "outputId": "6b6d9fba-822c-4b4e-a2cc-61a9afe560d3"
      },
      "outputs": [
        {
          "data": {
            "text/plain": [
              "str"
            ]
          },
          "execution_count": 3,
          "metadata": {},
          "output_type": "execute_result"
        }
      ],
      "source": [
        "# Creating string\n",
        "s = \"MAT120\"\n",
        "type(s)"
      ]
    },
    {
      "cell_type": "code",
      "execution_count": null,
      "metadata": {
        "colab": {
          "base_uri": "https://localhost:8080/"
        },
        "id": "wYFIYjmNSbfU",
        "outputId": "066fd351-ba10-4aa8-ad35-8816425b4bfb"
      },
      "outputs": [
        {
          "data": {
            "text/plain": [
              "str"
            ]
          },
          "execution_count": 4,
          "metadata": {},
          "output_type": "execute_result"
        }
      ],
      "source": [
        "# Float to String\n",
        "n = 10.5\n",
        "n = str(n)\n",
        "type(n)\n"
      ]
    },
    {
      "cell_type": "code",
      "execution_count": null,
      "metadata": {
        "colab": {
          "base_uri": "https://localhost:8080/",
          "height": 36
        },
        "id": "IezfsKBHVxOJ",
        "outputId": "4d47ab03-a047-4f8a-c2c7-a83cb75135e9"
      },
      "outputs": [
        {
          "data": {
            "application/vnd.google.colaboratory.intrinsic+json": {
              "type": "string"
            },
            "text/plain": [
              "'hws'"
            ]
          },
          "execution_count": 5,
          "metadata": {},
          "output_type": "execute_result"
        }
      ],
      "source": [
        "s1 = \"how's going\"\n",
        "s1[0:6:2]"
      ]
    },
    {
      "cell_type": "code",
      "execution_count": null,
      "metadata": {
        "colab": {
          "base_uri": "https://localhost:8080/",
          "height": 36
        },
        "id": "V4HPi_HIV9g7",
        "outputId": "5ad2832b-3c0f-4ae9-dd4a-a8275010f588"
      },
      "outputs": [
        {
          "data": {
            "application/vnd.google.colaboratory.intrinsic+json": {
              "type": "string"
            },
            "text/plain": [
              "\"how's going\""
            ]
          },
          "execution_count": 6,
          "metadata": {},
          "output_type": "execute_result"
        }
      ],
      "source": [
        "s1[0:]"
      ]
    },
    {
      "cell_type": "code",
      "execution_count": null,
      "metadata": {
        "colab": {
          "base_uri": "https://localhost:8080/",
          "height": 36
        },
        "id": "IzcCLq_DWVmM",
        "outputId": "4c47b197-b833-463e-84dd-f031f70d2b92"
      },
      "outputs": [
        {
          "data": {
            "application/vnd.google.colaboratory.intrinsic+json": {
              "type": "string"
            },
            "text/plain": [
              "'hello world'"
            ]
          },
          "execution_count": 15,
          "metadata": {},
          "output_type": "execute_result"
        }
      ],
      "source": [
        "s1 = \"hello\"\n",
        "s2 = \"world\"\n",
        "s1 + \" \" + s2"
      ]
    },
    {
      "cell_type": "code",
      "execution_count": null,
      "metadata": {
        "colab": {
          "base_uri": "https://localhost:8080/",
          "height": 36
        },
        "id": "ZysuQqgPXOG1",
        "outputId": "36117cfd-c4fc-4b52-9015-44476a8baf88"
      },
      "outputs": [
        {
          "data": {
            "application/vnd.google.colaboratory.intrinsic+json": {
              "type": "string"
            },
            "text/plain": [
              "'HELLO'"
            ]
          },
          "execution_count": 16,
          "metadata": {},
          "output_type": "execute_result"
        }
      ],
      "source": [
        "s1.upper()"
      ]
    },
    {
      "cell_type": "code",
      "execution_count": null,
      "metadata": {
        "colab": {
          "base_uri": "https://localhost:8080/",
          "height": 36
        },
        "id": "jgSpm776W5bk",
        "outputId": "900d23aa-cf10-4ed8-ad4c-ab0f3a402676"
      },
      "outputs": [
        {
          "data": {
            "application/vnd.google.colaboratory.intrinsic+json": {
              "type": "string"
            },
            "text/plain": [
              "'world'"
            ]
          },
          "execution_count": 17,
          "metadata": {},
          "output_type": "execute_result"
        }
      ],
      "source": [
        "s2.lower()"
      ]
    },
    {
      "cell_type": "code",
      "execution_count": null,
      "metadata": {
        "colab": {
          "base_uri": "https://localhost:8080/"
        },
        "id": "k8PqgMudXXFk",
        "outputId": "06d0ee35-709e-4205-e470-7b609bf55f9c"
      },
      "outputs": [
        {
          "data": {
            "text/plain": [
              "True"
            ]
          },
          "execution_count": 20,
          "metadata": {},
          "output_type": "execute_result"
        }
      ],
      "source": [
        "s1.startswith('h')"
      ]
    },
    {
      "cell_type": "code",
      "execution_count": null,
      "metadata": {
        "colab": {
          "base_uri": "https://localhost:8080/"
        },
        "id": "-r2iuvU0X66y",
        "outputId": "cfe27ec1-c81f-48c3-b9b2-0065a4d70daa"
      },
      "outputs": [
        {
          "name": "stdout",
          "output_type": "stream",
          "text": [
            "Go out\n"
          ]
        }
      ],
      "source": [
        "rain = False\n",
        "if rain:  #Check the \"True\" condition\n",
        "  print(\"Don't go out\")\n",
        "else:\n",
        "  print(\"Go out\")"
      ]
    },
    {
      "cell_type": "code",
      "execution_count": null,
      "metadata": {
        "id": "KDhSpfycYQHd"
      },
      "outputs": [],
      "source": [
        "n = input()\n",
        "\n",
        "while n != \"Mithu\":\n",
        "  print(\"Type again\")\n",
        "  n = input()\n",
        "  continue\n"
      ]
    },
    {
      "cell_type": "code",
      "execution_count": null,
      "metadata": {
        "colab": {
          "base_uri": "https://localhost:8080/"
        },
        "id": "r0lH_atOb2yf",
        "outputId": "922d658f-c6fd-4205-87db-1bf664d16a14"
      },
      "outputs": [
        {
          "name": "stdout",
          "output_type": "stream",
          "text": [
            "jum\n",
            "Type again\n",
            "yuo\n",
            "Type again\n",
            "laku\n",
            "welcome\n"
          ]
        }
      ],
      "source": [
        "n = input()\n",
        "while True:\n",
        "  if n != 'laku':\n",
        "    print(\"Type again\")\n",
        "    n = input()\n",
        "    continue\n",
        "  else:\n",
        "    print(\"welcome\")\n",
        "    break"
      ]
    },
    {
      "cell_type": "code",
      "execution_count": null,
      "metadata": {
        "colab": {
          "base_uri": "https://localhost:8080/"
        },
        "id": "LWt1i2o2cpVf",
        "outputId": "0f60c6d1-72e4-4741-9214-36c5dd0711eb"
      },
      "outputs": [
        {
          "name": "stdout",
          "output_type": "stream",
          "text": [
            "0 10\n",
            "1 20\n",
            "2 30\n"
          ]
        }
      ],
      "source": [
        "l = [10,20,30]\n",
        "for index,item in enumerate(l):   # New\n",
        "  print(index, item)"
      ]
    },
    {
      "cell_type": "code",
      "execution_count": null,
      "metadata": {
        "colab": {
          "base_uri": "https://localhost:8080/"
        },
        "id": "2lU_JNv-dmS8",
        "outputId": "b6d1c8a3-e232-43cd-8fcb-b44727da2b21"
      },
      "outputs": [
        {
          "name": "stdout",
          "output_type": "stream",
          "text": [
            "3.141592653589793\n"
          ]
        }
      ],
      "source": [
        "import math\n",
        "print(math.pi)\n"
      ]
    },
    {
      "cell_type": "code",
      "execution_count": null,
      "metadata": {
        "colab": {
          "base_uri": "https://localhost:8080/"
        },
        "id": "FjW6HFdMeFFR",
        "outputId": "b4bc97a7-57a5-4884-f71f-5193e6b7f0ca"
      },
      "outputs": [
        {
          "name": "stdout",
          "output_type": "stream",
          "text": [
            "3.141592653589793\n"
          ]
        }
      ],
      "source": [
        "from math import pi\n",
        "print(pi)"
      ]
    },
    {
      "cell_type": "code",
      "execution_count": null,
      "metadata": {
        "colab": {
          "base_uri": "https://localhost:8080/"
        },
        "id": "G1ajOEoTeVEC",
        "outputId": "fb90aeb9-31df-44e4-810c-00109734206d"
      },
      "outputs": [
        {
          "name": "stdout",
          "output_type": "stream",
          "text": [
            "3.141592653589793\n"
          ]
        }
      ],
      "source": [
        "import math as surovi\n",
        "\n",
        "print(surovi.pi)"
      ]
    },
    {
      "cell_type": "code",
      "execution_count": null,
      "metadata": {
        "colab": {
          "base_uri": "https://localhost:8080/"
        },
        "id": "4xCHiZkveen5",
        "outputId": "9dcb592f-9791-4ba7-a697-3dec0d3dec4a"
      },
      "outputs": [
        {
          "name": "stdout",
          "output_type": "stream",
          "text": [
            "3.141592653589793\n"
          ]
        }
      ],
      "source": [
        "from math import *  # * means all\n",
        "print(pi)"
      ]
    },
    {
      "cell_type": "code",
      "execution_count": null,
      "metadata": {
        "colab": {
          "base_uri": "https://localhost:8080/"
        },
        "id": "c7dGtGNMenGb",
        "outputId": "8b430f69-4b6a-4abe-87ba-74ff98735f39"
      },
      "outputs": [
        {
          "data": {
            "text/plain": [
              "25"
            ]
          },
          "execution_count": 30,
          "metadata": {},
          "output_type": "execute_result"
        }
      ],
      "source": [
        "def square(x):\n",
        "  return x*x\n",
        "square(5)"
      ]
    },
    {
      "cell_type": "code",
      "execution_count": null,
      "metadata": {
        "colab": {
          "base_uri": "https://localhost:8080/"
        },
        "id": "l6ayCpFje-jh",
        "outputId": "b8fe9319-1b1c-48c7-8ae2-344d4837a332"
      },
      "outputs": [
        {
          "data": {
            "text/plain": [
              "{1, 2, 3}"
            ]
          },
          "execution_count": 30,
          "metadata": {},
          "output_type": "execute_result"
        }
      ],
      "source": [
        "# Set\n",
        "A = {1,2,3}\n",
        "A"
      ]
    },
    {
      "cell_type": "code",
      "execution_count": null,
      "metadata": {
        "colab": {
          "base_uri": "https://localhost:8080/"
        },
        "id": "7yqwxxsbgL3g",
        "outputId": "df9d0df5-f47c-4e26-9961-d6b590456291"
      },
      "outputs": [
        {
          "name": "stdout",
          "output_type": "stream",
          "text": [
            "you should go here\n"
          ]
        }
      ],
      "source": [
        "# Error Handle\n",
        "try:\n",
        "  print(x)\n",
        "except NameError:  # EKHANE X akta name error\n",
        "  print(\"you should go here\")"
      ]
    },
    {
      "cell_type": "code",
      "execution_count": null,
      "metadata": {
        "colab": {
          "base_uri": "https://localhost:8080/"
        },
        "id": "fkHmDC-Tgpca",
        "outputId": "73202159-a15a-48a5-c83f-9b092c3a4c28"
      },
      "outputs": [
        {
          "name": "stdout",
          "output_type": "stream",
          "text": [
            "you should go here\n"
          ]
        }
      ],
      "source": [
        "# Error Handle\n",
        "try:\n",
        "  # print(x)\n",
        "  print(1/0)\n",
        "except ZeroDivisionError:  # Execute hobe na\n",
        "  print(\"you should go here\")"
      ]
    },
    {
      "cell_type": "markdown",
      "metadata": {
        "id": "AVQJIRWhTXEl"
      },
      "source": [
        "# Lab 02 - Derivative\n"
      ]
    },
    {
      "cell_type": "code",
      "execution_count": null,
      "metadata": {
        "id": "sdXHgofkTYuM"
      },
      "outputs": [],
      "source": [
        "import sympy as sp"
      ]
    },
    {
      "cell_type": "code",
      "execution_count": null,
      "metadata": {
        "colab": {
          "base_uri": "https://localhost:8080/",
          "height": 38
        },
        "id": "ZUeOHIXfTno8",
        "outputId": "17d2d2f8-0fd1-49e1-b150-88270cdc15b6"
      },
      "outputs": [
        {
          "data": {
            "text/latex": "$\\displaystyle \\pi$",
            "text/plain": [
              "pi"
            ]
          },
          "execution_count": 2,
          "metadata": {},
          "output_type": "execute_result"
        }
      ],
      "source": [
        "sp.pi"
      ]
    },
    {
      "cell_type": "code",
      "execution_count": null,
      "metadata": {
        "id": "DP1dJxnsTtqs"
      },
      "outputs": [],
      "source": [
        "x = sp.symbols('x') # Declair symbol"
      ]
    },
    {
      "cell_type": "code",
      "execution_count": null,
      "metadata": {
        "colab": {
          "base_uri": "https://localhost:8080/",
          "height": 38
        },
        "id": "zUx7Rt9lT58U",
        "outputId": "6a38c667-3682-4c6f-ef37-7a83badc300e"
      },
      "outputs": [
        {
          "data": {
            "text/latex": "$\\displaystyle 2 x^{2} + 5 x + 10$",
            "text/plain": [
              "2*x**2 + 5*x + 10"
            ]
          },
          "execution_count": 9,
          "metadata": {},
          "output_type": "execute_result"
        }
      ],
      "source": [
        "y = 2*x**2+5*x+10\n",
        "y                  # Don't use print function for math"
      ]
    },
    {
      "cell_type": "code",
      "execution_count": null,
      "metadata": {
        "colab": {
          "base_uri": "https://localhost:8080/",
          "height": 38
        },
        "id": "RQrsequqUmUe",
        "outputId": "e7b92f7c-8bbb-48f3-b9bd-a0b7f2d7db8e"
      },
      "outputs": [
        {
          "data": {
            "text/latex": "$\\displaystyle x^{2} + 5 x y$",
            "text/plain": [
              "x**2 + 5*x*y"
            ]
          },
          "execution_count": 10,
          "metadata": {},
          "output_type": "execute_result"
        }
      ],
      "source": [
        "y = sp.symbols('y')\n",
        "z = x**2 + 5*x*y\n",
        "z"
      ]
    },
    {
      "cell_type": "code",
      "execution_count": null,
      "metadata": {
        "colab": {
          "base_uri": "https://localhost:8080/"
        },
        "id": "cBJf2cjIVDHD",
        "outputId": "f22efd5d-a224-417a-f4f1-168b192aa51a"
      },
      "outputs": [
        {
          "data": {
            "text/plain": [
              "[-5/4 - sqrt(55)*I/4, -5/4 + sqrt(55)*I/4]"
            ]
          },
          "execution_count": 11,
          "metadata": {},
          "output_type": "execute_result"
        }
      ],
      "source": [
        "# Solve a equation (Use .solve)\n",
        "f1 = 2*x**2+5*x+10\n",
        "sp.solve(f1)"
      ]
    },
    {
      "cell_type": "code",
      "execution_count": null,
      "metadata": {
        "colab": {
          "base_uri": "https://localhost:8080/",
          "height": 504
        },
        "id": "CXR-JHp2VtGt",
        "outputId": "cccfedcf-62e6-48f4-a82b-9405d9b5d4a3"
      },
      "outputs": [
        {
          "data": {
            "image/png": "[encoded data removed]",
            "text/plain": [
              "<Figure size 640x480 with 1 Axes>"
            ]
          },
          "metadata": {},
          "output_type": "display_data"
        },
        {
          "data": {
            "text/plain": [
              "<sympy.plotting.plot.Plot at 0x7fc7d5ce9480>"
            ]
          },
          "execution_count": 12,
          "metadata": {},
          "output_type": "execute_result"
        }
      ],
      "source": [
        "sp.plot(f1)"
      ]
    },
    {
      "cell_type": "code",
      "execution_count": null,
      "metadata": {
        "colab": {
          "base_uri": "https://localhost:8080/",
          "height": 504
        },
        "id": "iVTXwITFV5Sr",
        "outputId": "54284034-09d9-4745-f1c0-cf371d610bcb"
      },
      "outputs": [
        {
          "data": {
            "image/png": "[encoded data removed]",
            "text/plain": [
              "<Figure size 640x480 with 1 Axes>"
            ]
          },
          "metadata": {},
          "output_type": "display_data"
        },
        {
          "data": {
            "text/plain": [
              "<sympy.plotting.plot.Plot at 0x7fc7d5885510>"
            ]
          },
          "execution_count": 13,
          "metadata": {},
          "output_type": "execute_result"
        }
      ],
      "source": [
        "# Customize a plot\n",
        "sp.plot(f1, title = \"Graph of f1\", line_color = \"red\", legend = \"2*x**2+5*x+10\")\n",
        "sp.plot(f1, title = \"Graph of f1\", line_color = \"red\", legend = \"2*x**2+5*x+10\", show = False)"
      ]
    },
    {
      "cell_type": "code",
      "execution_count": null,
      "metadata": {
        "id": "_4Ljx3YVW-a7"
      },
      "outputs": [],
      "source": [
        "marker = [{'args':[1,2,'r*'],'ms':200}]"
      ]
    },
    {
      "cell_type": "code",
      "execution_count": null,
      "metadata": {
        "id": "-dVRJwsuXSP8"
      },
      "outputs": [],
      "source": [
        "x = sp.symbols('x')\n",
        "f2 = x"
      ]
    },
    {
      "cell_type": "code",
      "execution_count": null,
      "metadata": {
        "id": "q34IyEOGXnI6"
      },
      "outputs": [],
      "source": [
        "p1 = sp.plot(f1, title = \"Graph of f1\", line_color = \"red\", legend = \"2*x**2+5*x+10\", show = False)\n",
        "p2 = sp.plot(f2, title = \"Graph of f2\", line_color = \"blue\", legend = \"x\", show = False)"
      ]
    },
    {
      "cell_type": "code",
      "execution_count": null,
      "metadata": {
        "colab": {
          "base_uri": "https://localhost:8080/",
          "height": 483
        },
        "id": "NWKqf0NEXtlg",
        "outputId": "8c3f0854-cbff-4099-dda5-d2ac1876eea3"
      },
      "outputs": [
        {
          "data": {
            "image/png": "[encoded data removed]",
            "text/plain": [
              "<Figure size 640x480 with 1 Axes>"
            ]
          },
          "metadata": {},
          "output_type": "display_data"
        }
      ],
      "source": [
        "p1.extend(p2)  # To show 2 graph in one\n",
        "p1.show()"
      ]
    },
    {
      "cell_type": "code",
      "execution_count": null,
      "metadata": {
        "colab": {
          "base_uri": "https://localhost:8080/",
          "height": 38
        },
        "id": "PjVWq9sqZXLz",
        "outputId": "58c99de3-cacb-42b6-cbdd-86050b8ee531"
      },
      "outputs": [
        {
          "data": {
            "text/latex": "$\\displaystyle 4 x + 5$",
            "text/plain": [
              "4*x + 5"
            ]
          },
          "execution_count": 27,
          "metadata": {},
          "output_type": "execute_result"
        }
      ],
      "source": [
        "# Differentiate\n",
        "sp.diff(f1,x)   # (Kar derivative, Kar respect e)"
      ]
    },
    {
      "cell_type": "code",
      "execution_count": null,
      "metadata": {
        "colab": {
          "base_uri": "https://localhost:8080/",
          "height": 38
        },
        "id": "x-u8ez8HZsaD",
        "outputId": "4d9032ff-e5ca-443a-ccfe-da4224935124"
      },
      "outputs": [
        {
          "data": {
            "text/latex": "$\\displaystyle 2 x + 5 y$",
            "text/plain": [
              "2*x + 5*y"
            ]
          },
          "execution_count": 28,
          "metadata": {},
          "output_type": "execute_result"
        }
      ],
      "source": [
        "sp.diff(z,x)"
      ]
    },
    {
      "cell_type": "code",
      "execution_count": null,
      "metadata": {
        "colab": {
          "base_uri": "https://localhost:8080/",
          "height": 38
        },
        "id": "pqusDeNTZzlC",
        "outputId": "bde97d5f-9203-4df5-dff4-b063e57d10c5"
      },
      "outputs": [
        {
          "data": {
            "text/latex": "$\\displaystyle 5 x$",
            "text/plain": [
              "5*x"
            ]
          },
          "execution_count": 29,
          "metadata": {},
          "output_type": "execute_result"
        }
      ],
      "source": [
        "sp.diff(z,y)"
      ]
    },
    {
      "cell_type": "code",
      "execution_count": null,
      "metadata": {
        "colab": {
          "base_uri": "https://localhost:8080/",
          "height": 38
        },
        "id": "LwZrKCZkaAMK",
        "outputId": "c071ceb9-6e9d-4aea-e45a-3c46badef37c"
      },
      "outputs": [
        {
          "data": {
            "text/latex": "$\\displaystyle 0$",
            "text/plain": [
              "0"
            ]
          },
          "execution_count": 32,
          "metadata": {},
          "output_type": "execute_result"
        }
      ],
      "source": [
        "f1 = 2*x**2+5*x+10\n",
        "sp.diff(f1,x,3)  # (Kar derivative, Kar respect e, koto tomo derivative)"
      ]
    },
    {
      "cell_type": "code",
      "execution_count": null,
      "metadata": {
        "colab": {
          "base_uri": "https://localhost:8080/",
          "height": 38
        },
        "id": "uayWrmfvbF8j",
        "outputId": "21d332f5-2360-4ee4-d000-bf59ae71a316"
      },
      "outputs": [
        {
          "data": {
            "text/latex": "$\\displaystyle \\sin{\\left(x \\right)}$",
            "text/plain": [
              "sin(x)"
            ]
          },
          "execution_count": 33,
          "metadata": {},
          "output_type": "execute_result"
        }
      ],
      "source": [
        "z = sp.sin(x)\n",
        "z"
      ]
    },
    {
      "cell_type": "code",
      "execution_count": null,
      "metadata": {
        "colab": {
          "base_uri": "https://localhost:8080/",
          "height": 38
        },
        "id": "G4X3aWY2bNXA",
        "outputId": "04d18845-599e-4141-9c27-1350e6d2de20"
      },
      "outputs": [
        {
          "data": {
            "text/latex": "$\\displaystyle \\sin{\\left(10 \\right)}$",
            "text/plain": [
              "sin(10)"
            ]
          },
          "execution_count": 34,
          "metadata": {},
          "output_type": "execute_result"
        }
      ],
      "source": [
        "# Substitute of a function\n",
        "z.subs(x,10)"
      ]
    },
    {
      "cell_type": "code",
      "execution_count": null,
      "metadata": {
        "colab": {
          "base_uri": "https://localhost:8080/",
          "height": 38
        },
        "id": "-XFU7xWTbypP",
        "outputId": "5405e3cc-274a-4ce7-c548-d5a7fb9a5009"
      },
      "outputs": [
        {
          "data": {
            "text/latex": "$\\displaystyle -0.54402111088937$",
            "text/plain": [
              "-0.544021110889370"
            ]
          },
          "execution_count": 35,
          "metadata": {},
          "output_type": "execute_result"
        }
      ],
      "source": [
        "f3 = z.subs(x,10)\n",
        "f3.evalf() # sin10 er value"
      ]
    },
    {
      "cell_type": "markdown",
      "metadata": {
        "id": "_0laeMNsco1i"
      },
      "source": [
        "## Maxima & Minima"
      ]
    },
    {
      "cell_type": "code",
      "execution_count": null,
      "metadata": {
        "id": "yjnOkJPJaiaA"
      },
      "outputs": [],
      "source": [
        "# Maxima & Minima\n",
        "## have to find f(x), f'(x), f''(x)\n",
        "# f'(x) = 0 dhore value ber korte hobe jeta f''(x) e boshiye <0 or >0 ber korte hobe"
      ]
    },
    {
      "cell_type": "code",
      "execution_count": null,
      "metadata": {
        "colab": {
          "base_uri": "https://localhost:8080/",
          "height": 38
        },
        "id": "liGX8cqhb_im",
        "outputId": "f2220597-5390-4718-a96c-a0c639e20f6d"
      },
      "outputs": [
        {
          "data": {
            "text/latex": "$\\displaystyle 2 x^{3} + 5 x^{2} - 100 x + 10$",
            "text/plain": [
              "2*x**3 + 5*x**2 - 100*x + 10"
            ]
          },
          "execution_count": 38,
          "metadata": {},
          "output_type": "execute_result"
        }
      ],
      "source": [
        "y = 2*x**3 + 5*x**2 - 100*x + 10\n",
        "# y = sp.symbols('y')\n",
        "y"
      ]
    },
    {
      "cell_type": "code",
      "execution_count": null,
      "metadata": {
        "colab": {
          "base_uri": "https://localhost:8080/",
          "height": 505
        },
        "id": "Elzi-fPAc-NO",
        "outputId": "4682df36-f0aa-40b6-901c-4e6bac662f01"
      },
      "outputs": [
        {
          "data": {
            "image/png": "[encoded data removed]",
            "text/plain": [
              "<Figure size 640x480 with 1 Axes>"
            ]
          },
          "metadata": {},
          "output_type": "display_data"
        },
        {
          "data": {
            "text/plain": [
              "<sympy.plotting.plot.Plot at 0x7fc7ca58d630>"
            ]
          },
          "execution_count": 40,
          "metadata": {},
          "output_type": "execute_result"
        }
      ],
      "source": [
        "sp.plot(y)"
      ]
    },
    {
      "cell_type": "code",
      "execution_count": null,
      "metadata": {
        "id": "LOtND6X3eDn7"
      },
      "outputs": [],
      "source": [
        "f = 2*x**3 + 5*x**2 - 100*x + 10"
      ]
    },
    {
      "cell_type": "code",
      "execution_count": null,
      "metadata": {
        "colab": {
          "base_uri": "https://localhost:8080/",
          "height": 487
        },
        "id": "BFi42XfIeOiG",
        "outputId": "3231d3fd-4a4f-4ee4-bb02-3e49ec60cff4"
      },
      "outputs": [
        {
          "data": {
            "image/png": "[encoded data removed]",
            "text/plain": [
              "<Figure size 640x480 with 1 Axes>"
            ]
          },
          "metadata": {},
          "output_type": "display_data"
        }
      ],
      "source": [
        "p1 = sp.plot(f,(x, -10,10))"
      ]
    },
    {
      "cell_type": "code",
      "execution_count": null,
      "metadata": {
        "colab": {
          "base_uri": "https://localhost:8080/",
          "height": 38
        },
        "id": "kxAftHRWd-v1",
        "outputId": "1b491b2f-ac57-4107-f68a-598a1418afa5"
      },
      "outputs": [
        {
          "data": {
            "text/latex": "$\\displaystyle 6 x^{2} + 10 x - 100$",
            "text/plain": [
              "6*x**2 + 10*x - 100"
            ]
          },
          "execution_count": 51,
          "metadata": {},
          "output_type": "execute_result"
        }
      ],
      "source": [
        "diff1 = sp.diff(f,x,1)\n",
        "diff1"
      ]
    },
    {
      "cell_type": "code",
      "execution_count": null,
      "metadata": {
        "colab": {
          "base_uri": "https://localhost:8080/",
          "height": 487
        },
        "id": "-AT_5V0teY2_",
        "outputId": "cc97e277-c455-4c1c-98eb-7a05e7a61189"
      },
      "outputs": [
        {
          "data": {
            "image/png": "[encoded data removed]",
            "text/plain": [
              "<Figure size 640x480 with 1 Axes>"
            ]
          },
          "metadata": {},
          "output_type": "display_data"
        }
      ],
      "source": [
        "p2 = sp.plot(diff1,(x,-10,10), line_color = 'red', title = 'first derivative', legend = \"6*x**2 + 10*x - 100\")"
      ]
    },
    {
      "cell_type": "code",
      "execution_count": null,
      "metadata": {
        "colab": {
          "base_uri": "https://localhost:8080/",
          "height": 487
        },
        "id": "N3M3fr9sfvWu",
        "outputId": "43e45bd5-a223-4d58-9af7-8050326dab0c"
      },
      "outputs": [
        {
          "data": {
            "image/png": "[encoded data removed]",
            "text/plain": [
              "<Figure size 640x480 with 1 Axes>"
            ]
          },
          "metadata": {},
          "output_type": "display_data"
        }
      ],
      "source": [
        "p1.extend(p2)\n",
        "p1.show()"
      ]
    },
    {
      "cell_type": "code",
      "execution_count": null,
      "metadata": {
        "colab": {
          "base_uri": "https://localhost:8080/"
        },
        "id": "HVwW6FEzga5e",
        "outputId": "e919d53e-917b-49c5-9e66-bf7c91431cbe"
      },
      "outputs": [
        {
          "data": {
            "text/plain": [
              "[-5, 10/3]"
            ]
          },
          "execution_count": 63,
          "metadata": {},
          "output_type": "execute_result"
        }
      ],
      "source": [
        "solution = sp.solve(diff1)\n",
        "solution"
      ]
    },
    {
      "cell_type": "code",
      "execution_count": null,
      "metadata": {
        "colab": {
          "base_uri": "https://localhost:8080/",
          "height": 38
        },
        "id": "JkSMrCLQgRNm",
        "outputId": "8f1d7b13-0b56-439f-eab1-66130bddf900"
      },
      "outputs": [
        {
          "data": {
            "text/latex": "$\\displaystyle 2 \\cdot \\left(6 x + 5\\right)$",
            "text/plain": [
              "2*(6*x + 5)"
            ]
          },
          "execution_count": 62,
          "metadata": {},
          "output_type": "execute_result"
        }
      ],
      "source": [
        "diff2 = sp.diff(f,x,2)\n",
        "diff2"
      ]
    },
    {
      "cell_type": "code",
      "execution_count": null,
      "metadata": {
        "colab": {
          "base_uri": "https://localhost:8080/",
          "height": 51
        },
        "id": "pi5DCSysfBuJ",
        "outputId": "e99d4a01-2707-4706-82aa-4a180ed4d797"
      },
      "outputs": [
        {
          "data": {
            "text/latex": "$\\displaystyle \\frac{10}{3}$",
            "text/plain": [
              "10/3"
            ]
          },
          "execution_count": 64,
          "metadata": {},
          "output_type": "execute_result"
        }
      ],
      "source": [
        "solution[1]"
      ]
    },
    {
      "cell_type": "code",
      "execution_count": null,
      "metadata": {
        "colab": {
          "base_uri": "https://localhost:8080/",
          "height": 38
        },
        "id": "R1fM7Wxvg1S-",
        "outputId": "3e2376b8-86ca-4ddc-a1c1-34cb2721ea58"
      },
      "outputs": [
        {
          "data": {
            "text/latex": "$\\displaystyle -5$",
            "text/plain": [
              "-5"
            ]
          },
          "execution_count": 66,
          "metadata": {},
          "output_type": "execute_result"
        }
      ],
      "source": [
        "# Use for loop for multiple solutions\n",
        "if diff2.subs(x,solution[0]).evalf() < 0 :   # equals to 0 hote parbe na # please check that\n",
        "  max_pt = solution[0]\n",
        "  min_pt = solution[1]\n",
        "else:\n",
        "  min_pt = solution[0]\n",
        "  max_pt = solution[1]"
      ]
    },
    {
      "cell_type": "code",
      "execution_count": null,
      "metadata": {
        "colab": {
          "base_uri": "https://localhost:8080/",
          "height": 38
        },
        "id": "VTfZgvaQh3vF",
        "outputId": "7692e9c4-7ed1-4988-d1dc-fc6eae1d59f0"
      },
      "outputs": [
        {
          "data": {
            "text/latex": "$\\displaystyle -5$",
            "text/plain": [
              "-5"
            ]
          },
          "execution_count": 68,
          "metadata": {},
          "output_type": "execute_result"
        }
      ],
      "source": [
        "max_pt"
      ]
    },
    {
      "cell_type": "code",
      "execution_count": null,
      "metadata": {
        "colab": {
          "base_uri": "https://localhost:8080/",
          "height": 51
        },
        "id": "UJ-OK58ph1Bv",
        "outputId": "1c5c9152-2a60-4015-9df8-deb0b124d583"
      },
      "outputs": [
        {
          "data": {
            "text/latex": "$\\displaystyle \\frac{10}{3}$",
            "text/plain": [
              "10/3"
            ]
          },
          "execution_count": 67,
          "metadata": {},
          "output_type": "execute_result"
        }
      ],
      "source": [
        "min_pt"
      ]
    },
    {
      "cell_type": "code",
      "execution_count": null,
      "metadata": {
        "colab": {
          "base_uri": "https://localhost:8080/"
        },
        "id": "PcfRDVGXjEle",
        "outputId": "d00feee7-9452-4d11-9884-77b40b2724f3"
      },
      "outputs": [
        {
          "name": "stdout",
          "output_type": "stream",
          "text": [
            "[-5]\n",
            "[10/3]\n"
          ]
        }
      ],
      "source": [
        "max_pt = []\n",
        "min_pt = []\n",
        "for i in range(len(solution)):\n",
        "  if diff2.subs(x,solution[i]).evalf() < 0 :\n",
        "    max_pt.append(solution[i])\n",
        "  elif diff2.subs(x,solution[i]).evalf() > 0 :\n",
        "    min_pt.append(solution[i])\n",
        "print(max_pt)\n",
        "print(min_pt)"
      ]
    },
    {
      "cell_type": "markdown",
      "metadata": {
        "id": "xmTjOKVfci7b"
      },
      "source": [
        "# Lab 03 - Maxima, Minima"
      ]
    },
    {
      "cell_type": "code",
      "execution_count": null,
      "metadata": {
        "colab": {
          "base_uri": "https://localhost:8080/"
        },
        "id": "0ZRG38j_cifg",
        "outputId": "3d98bac5-2a76-4364-f8d6-049b7c189734"
      },
      "outputs": [
        {
          "output_type": "stream",
          "name": "stdout",
          "text": [
            "The maximum value of the function at pi/2 is 1.00000000000000\n"
          ]
        }
      ],
      "source": [
        "import sympy as sp\n",
        "# symbol\n",
        "x = sp.symbols('x')\n",
        "#expression\n",
        "# y = x**4-100*x**2+10*x-2\n",
        "y = sp.sin(x)\n",
        "# first derivative\n",
        "diff1 = sp.diff(y,x,1)\n",
        "#second derivative\n",
        "diff2 = sp.diff(y,x,2)\n",
        "#Solution of first derivative\n",
        "soln = sp.solve(diff1)\n",
        "\n",
        "#Finding the real solution within the range\n",
        "soln1 = []\n",
        "for i in range(len(soln)):\n",
        "    if sp.im(soln[i]) != 0:\n",
        "        continue\n",
        "    elif soln[i] >= -1 and soln[i] <=3:\n",
        "        soln1.append(soln[i])\n",
        "    else:\n",
        "      continue\n",
        "\n",
        "# Finding maxima and minima\n",
        "if len(soln1) > 0:\n",
        "  for k in range(len(soln1)):\n",
        "    if diff2.subs(x,soln1[k]) < 0:\n",
        "      max_pt = soln1[k]\n",
        "      max_val = y.subs(x,soln[k]).evalf()\n",
        "      print(f\"The maximum value of the function at {max_pt} is {max_val}\")\n",
        "    elif diff2.subs(x,soln1[k]) > 0:\n",
        "      min_pt = soln1[k]\n",
        "      min_val = y.subs(x,soln[k]).evalf()\n",
        "      print(f\"The minimum value of the function at {min_pt} is {min_val}\")\n",
        "else:\n",
        "  print(\"There is no maxima minima of the function within the range\")"
      ]
    },
    {
      "cell_type": "code",
      "execution_count": null,
      "metadata": {
        "colab": {
          "base_uri": "https://localhost:8080/"
        },
        "id": "0AZ4wUi4m-D2",
        "outputId": "1336fbf1-ae48-4324-d1bf-9b49108db53b"
      },
      "outputs": [
        {
          "data": {
            "text/plain": [
              "[pi/2, 3*pi/2]"
            ]
          },
          "execution_count": 16,
          "metadata": {},
          "output_type": "execute_result"
        }
      ],
      "source": [
        "import sympy as sp\n",
        "# symbol\n",
        "x = sp.symbols('x')\n",
        "#expression\n",
        "# y = x**4-100*x**2+10*x-2\n",
        "y = sp.sin(x)\n",
        "# first derivative\n",
        "diff1 = sp.diff(y,x,1)\n",
        "#second derivative\n",
        "diff2 = sp.diff(y,x,2)\n",
        "#Solution of first derivative\n",
        "soln = sp.solve(diff1)\n",
        "soln"
      ]
    },
    {
      "cell_type": "code",
      "execution_count": null,
      "metadata": {
        "colab": {
          "base_uri": "https://localhost:8080/",
          "height": 38
        },
        "id": "DB87iA_Pli0e",
        "outputId": "cf0fdb05-c6b9-4160-c125-efe6749c0c46"
      },
      "outputs": [
        {
          "output_type": "execute_result",
          "data": {
            "text/plain": [
              "x**4 - 100*x**2 + 10*x - 2"
            ],
            "text/latex": "$\\displaystyle x^{4} - 100 x^{2} + 10 x - 2$"
          },
          "metadata": {},
          "execution_count": 2
        }
      ],
      "source": [
        "y = x**4-100*x**2+10*x-2\n",
        "y"
      ]
    },
    {
      "cell_type": "code",
      "execution_count": null,
      "metadata": {
        "colab": {
          "base_uri": "https://localhost:8080/",
          "height": 973
        },
        "id": "pGEEhSGylrPV",
        "outputId": "aca2e52a-83da-4088-ad45-2223d14e3538"
      },
      "outputs": [
        {
          "output_type": "display_data",
          "data": {
            "text/plain": [
              "<Figure size 640x480 with 1 Axes>"
            ],
            "image/png": "[encoded data removed]"
          },
          "metadata": {}
        },
        {
          "output_type": "display_data",
          "data": {
            "text/plain": [
              "<Figure size 640x480 with 1 Axes>"
            ],
            "image/png": "[encoded data removed]"
          },
          "metadata": {}
        },
        {
          "output_type": "execute_result",
          "data": {
            "text/plain": [
              "<sympy.plotting.plot.Plot at 0x79e2e7fb9d20>"
            ]
          },
          "metadata": {},
          "execution_count": 4
        }
      ],
      "source": [
        "sp.plot(y,(x,-5,5))\n",
        "sp.plot(sp.diff(y,x),(x,-5,5))"
      ]
    },
    {
      "cell_type": "code",
      "execution_count": null,
      "metadata": {
        "id": "HZtO8BhUn3ao",
        "colab": {
          "base_uri": "https://localhost:8080/",
          "height": 38
        },
        "outputId": "f6721d1f-a07f-48fb-a1b4-b8d9e00fe8c3"
      },
      "outputs": [
        {
          "output_type": "execute_result",
          "data": {
            "text/plain": [
              "Union(ImageSet(Lambda(_n, 2*_n*pi + pi), Integers), ImageSet(Lambda(_n, 2*_n*pi), Integers))"
            ],
            "text/latex": "$\\displaystyle \\left\\{2 n \\pi\\; \\middle|\\; n \\in \\mathbb{Z}\\right\\} \\cup \\left\\{2 n \\pi + \\pi\\; \\middle|\\; n \\in \\mathbb{Z}\\right\\}$"
          },
          "metadata": {},
          "execution_count": 43
        }
      ],
      "source": [
        "y = sp.sin(x)\n",
        "sp.solveset(y)"
      ]
    },
    {
      "cell_type": "code",
      "source": [
        "# NOTE\n",
        "if imaginary root < 10^-15 then consider it as real number\n",
        "take the absolute value\n",
        "x = abs(x)\n",
        "evaluate that by plotting"
      ],
      "metadata": {
        "id": "Gt-bO2p1zjHr"
      },
      "execution_count": null,
      "outputs": []
    },
    {
      "cell_type": "markdown",
      "source": [
        "# Lab 04 - Integration"
      ],
      "metadata": {
        "id": "8yzFe5HRnufI"
      }
    },
    {
      "cell_type": "code",
      "source": [
        "import sympy as sp\n",
        "# symbol\n",
        "x = sp.symbols('x')\n",
        "#expression\n",
        "f = sp.exp(-x)*x**2* sp.cos(x)\n",
        "# To print Output\n",
        "display(f)"
      ],
      "metadata": {
        "colab": {
          "base_uri": "https://localhost:8080/",
          "height": 38
        },
        "id": "qchJAlvhnzDZ",
        "outputId": "d4e048e9-a837-436c-f2ed-5b736c6b5183"
      },
      "execution_count": null,
      "outputs": [
        {
          "output_type": "display_data",
          "data": {
            "text/plain": [
              "x**2*exp(-x)*cos(x)"
            ],
            "text/latex": "$\\displaystyle x^{2} e^{- x} \\cos{\\left(x \\right)}$"
          },
          "metadata": {}
        }
      ]
    },
    {
      "cell_type": "code",
      "source": [
        "# Integration\n",
        "sp.integrate(f).simplify()"
      ],
      "metadata": {
        "colab": {
          "base_uri": "https://localhost:8080/",
          "height": 57
        },
        "id": "b2zUddnMpO5M",
        "outputId": "df081ebb-e8d6-4a0a-b4b7-86034d131d3a"
      },
      "execution_count": null,
      "outputs": [
        {
          "output_type": "execute_result",
          "data": {
            "text/plain": [
              "sqrt(2)*(-x**2*cos(x + pi/4) + x*sin(x + pi/4) - x*cos(x + pi/4) + sin(x + pi/4))*exp(-x)/2"
            ],
            "text/latex": "$\\displaystyle \\frac{\\sqrt{2} \\left(- x^{2} \\cos{\\left(x + \\frac{\\pi}{4} \\right)} + x \\sin{\\left(x + \\frac{\\pi}{4} \\right)} - x \\cos{\\left(x + \\frac{\\pi}{4} \\right)} + \\sin{\\left(x + \\frac{\\pi}{4} \\right)}\\right) e^{- x}}{2}$"
          },
          "metadata": {},
          "execution_count": 9
        }
      ]
    },
    {
      "cell_type": "code",
      "source": [
        "import sympy as sp\n",
        "# symbol\n",
        "x = sp.symbols('x')\n",
        "#expression\n",
        "f2 = sp.sin(x)**3 * sp.exp(-x)**5\n",
        "# To print Output\n",
        "display(f2)\n",
        "print()\n",
        "# Integration\n",
        "sp.integrate(f2).simplify()"
      ],
      "metadata": {
        "colab": {
          "base_uri": "https://localhost:8080/",
          "height": 93
        },
        "id": "WdRznOdApgQj",
        "outputId": "7d423c1a-c9c3-43d7-8395-236c88672747"
      },
      "execution_count": null,
      "outputs": [
        {
          "output_type": "display_data",
          "data": {
            "text/plain": [
              "exp(-5*x)*sin(x)**3"
            ],
            "text/latex": "$\\displaystyle e^{- 5 x} \\sin^{3}{\\left(x \\right)}$"
          },
          "metadata": {}
        },
        {
          "output_type": "stream",
          "name": "stdout",
          "text": [
            "\n"
          ]
        },
        {
          "output_type": "execute_result",
          "data": {
            "text/plain": [
              "(-255*sin(x) + 65*sin(3*x) - 51*cos(x) + 39*cos(3*x))*exp(-5*x)/1768"
            ],
            "text/latex": "$\\displaystyle \\frac{\\left(- 255 \\sin{\\left(x \\right)} + 65 \\sin{\\left(3 x \\right)} - 51 \\cos{\\left(x \\right)} + 39 \\cos{\\left(3 x \\right)}\\right) e^{- 5 x}}{1768}$"
          },
          "metadata": {},
          "execution_count": 14
        }
      ]
    },
    {
      "cell_type": "code",
      "source": [
        "import sympy as sp\n",
        "# symbol\n",
        "x = sp.symbols('x')\n",
        "#expression\n",
        "f3 = sp.exp(x)/sp.sqrt(sp.exp(x)+9)\n",
        "# To print Output\n",
        "display(f3)\n",
        "print()\n",
        "# Integration\n",
        "sp.integrate(f3).simplify()\n",
        "print()\n",
        "sp.integrate(f3).subs(x,sp.log(4))-sp.integrate(f3).subs(x,0)              #sp.log is by default ln"
      ],
      "metadata": {
        "colab": {
          "base_uri": "https://localhost:8080/",
          "height": 112
        },
        "id": "2yKspgiLqSDK",
        "outputId": "7d101f3f-730c-45b6-a0e8-f89ddc0ee7a2"
      },
      "execution_count": null,
      "outputs": [
        {
          "output_type": "display_data",
          "data": {
            "text/plain": [
              "exp(x)/sqrt(exp(x) + 9)"
            ],
            "text/latex": "$\\displaystyle \\frac{e^{x}}{\\sqrt{e^{x} + 9}}$"
          },
          "metadata": {}
        },
        {
          "output_type": "stream",
          "name": "stdout",
          "text": [
            "\n",
            "\n"
          ]
        },
        {
          "output_type": "execute_result",
          "data": {
            "text/plain": [
              "-2*sqrt(10) + 2*sqrt(13)"
            ],
            "text/latex": "$\\displaystyle - 2 \\sqrt{10} + 2 \\sqrt{13}$"
          },
          "metadata": {},
          "execution_count": 24
        }
      ]
    },
    {
      "cell_type": "code",
      "source": [
        "from sympy import *\n",
        "# symbol\n",
        "x = sp.symbols('x')\n",
        "#expression\n",
        "f4 =  x**6*sp.exp(-x)**2\n",
        "# To print Output\n",
        "display(f4)\n",
        "print()\n",
        "# Integration\n",
        "sp.integrate(f4,(x,0,oo)).simplify()"
      ],
      "metadata": {
        "colab": {
          "base_uri": "https://localhost:8080/",
          "height": 90
        },
        "id": "kEY5_HEotA6Y",
        "outputId": "ff988d02-fda4-41ee-b3d6-60befb3a80c4"
      },
      "execution_count": null,
      "outputs": [
        {
          "output_type": "display_data",
          "data": {
            "text/plain": [
              "x**6*exp(-2*x)"
            ],
            "text/latex": "$\\displaystyle x^{6} e^{- 2 x}$"
          },
          "metadata": {}
        },
        {
          "output_type": "stream",
          "name": "stdout",
          "text": [
            "\n"
          ]
        },
        {
          "output_type": "execute_result",
          "data": {
            "text/plain": [
              "45/8"
            ],
            "text/latex": "$\\displaystyle \\frac{45}{8}$"
          },
          "metadata": {},
          "execution_count": 27
        }
      ]
    },
    {
      "cell_type": "code",
      "source": [
        "from sympy import *\n",
        "# symbol\n",
        "x = sp.symbols('x')\n",
        "#expression\n",
        "f5 =  sp.exp(-sp.sin(x))\n",
        "# To print Output\n",
        "display(f5)\n",
        "print()\n",
        "# Integration\n",
        "sp.integrate(f5,(x,1,2))   # Return the same. In this case it cannot be solved manually"
      ],
      "metadata": {
        "colab": {
          "base_uri": "https://localhost:8080/",
          "height": 119
        },
        "id": "X3WJC3RcuGHm",
        "outputId": "04bd5ad6-964c-44a2-982b-aff4d38b7fd2"
      },
      "execution_count": null,
      "outputs": [
        {
          "output_type": "display_data",
          "data": {
            "text/plain": [
              "exp(-sin(x))"
            ],
            "text/latex": "$\\displaystyle e^{- \\sin{\\left(x \\right)}}$"
          },
          "metadata": {}
        },
        {
          "output_type": "stream",
          "name": "stdout",
          "text": [
            "\n"
          ]
        },
        {
          "output_type": "execute_result",
          "data": {
            "text/plain": [
              "Integral(exp(-sin(x)), (x, 1, 2))"
            ],
            "text/latex": "$\\displaystyle \\int\\limits_{1}^{2} e^{- \\sin{\\left(x \\right)}}\\, dx$"
          },
          "metadata": {},
          "execution_count": 30
        }
      ]
    },
    {
      "cell_type": "code",
      "source": [
        "# Trapizoidal Method\n",
        "# Gausian Quadrature Method\n",
        "f = lambda x,y: x**2 + y**2\n",
        "f\n",
        "# Use \"Lambda\" funcvtion to convert a symbolic equation into numaric"
      ],
      "metadata": {
        "colab": {
          "base_uri": "https://localhost:8080/"
        },
        "id": "4WOcRNMcunim",
        "outputId": "33ce6b04-2e02-485c-a89d-9d8a6babfb19"
      },
      "execution_count": null,
      "outputs": [
        {
          "output_type": "execute_result",
          "data": {
            "text/plain": [
              "<function __main__.<lambda>(x, y)>"
            ]
          },
          "metadata": {},
          "execution_count": 32
        }
      ]
    },
    {
      "cell_type": "code",
      "source": [
        "import numpy as np\n",
        "f6 = lambda x: np.exp(-np.sin(x))\n",
        "from scipy.integrate import quad\n",
        "quad(f6,1,2)\n",
        "\n",
        "# Return a tuple (result, error)"
      ],
      "metadata": {
        "colab": {
          "base_uri": "https://localhost:8080/"
        },
        "id": "crWIf8ipw6r6",
        "outputId": "1d3ea190-4d3f-4374-941d-d42475f671af"
      },
      "execution_count": null,
      "outputs": [
        {
          "output_type": "execute_result",
          "data": {
            "text/plain": [
              "(0.3845918142796868, 4.2698268729567035e-15)"
            ]
          },
          "metadata": {},
          "execution_count": 36
        }
      ]
    },
    {
      "cell_type": "code",
      "source": [
        "result = quad(f6,1,2) [0]\n",
        "print(result)"
      ],
      "metadata": {
        "colab": {
          "base_uri": "https://localhost:8080/"
        },
        "id": "NPW7q17xxk3K",
        "outputId": "ccd95dea-10e7-41e0-fab1-17a2a8ec508a"
      },
      "execution_count": null,
      "outputs": [
        {
          "output_type": "stream",
          "name": "stdout",
          "text": [
            "0.3845918142796868\n"
          ]
        }
      ]
    },
    {
      "cell_type": "code",
      "source": [
        "# lambdify of f5\n",
        "# To convert symbol x into numerical x\n",
        "\n",
        "f7 = sp.lambdify(x,f5)\n",
        "quad(f7,1,2)"
      ],
      "metadata": {
        "colab": {
          "base_uri": "https://localhost:8080/"
        },
        "id": "l9ifYMoMxqhp",
        "outputId": "a04add9c-3f17-4d89-b79a-71d4d87a3386"
      },
      "execution_count": null,
      "outputs": [
        {
          "output_type": "execute_result",
          "data": {
            "text/plain": [
              "(0.3845918142796868, 4.2698268729567035e-15)"
            ]
          },
          "metadata": {},
          "execution_count": 42
        }
      ]
    },
    {
      "cell_type": "markdown",
      "source": [
        "# Lab 05"
      ],
      "metadata": {
        "id": "r3whNkwGm7q4"
      }
    },
    {
      "cell_type": "code",
      "source": [
        "#Importing the SymPy Library\n",
        "import sympy as sp\n",
        "from sympy import *\n",
        "#Importing the SciPy Library for Numerical Integration\n",
        "import scipy as sc\n",
        "from scipy.integrate import quad\n",
        "import numpy as np"
      ],
      "metadata": {
        "id": "rVxTffxLm9vg"
      },
      "execution_count": null,
      "outputs": []
    },
    {
      "cell_type": "markdown",
      "source": [
        "![120.1.PNG](data:image/png;base64,iVBORw0KGgoAAAANSUhEUgAAAQEAAABhCAYAAADWbxQTAAAAAXNSR0IArs4c6QAAAARnQU1BAACxjwv8YQUAAAAJcEhZcwAAEnQAABJ0Ad5mH3gAAAkFSURBVHhe7Z2LjRQ7EEVJgRhIgRwIgRhIgQzIgAyIgAhIgATIgBz26azeRVeW3b+1e7rH90jWLNO/sl11XXb3NO9eQghTExEIYXIiAiFMTkQghMmJCIQwORGBECYnIhDC5EQEQpiciEAIkxMRCGFyIgIhTE5EIITJOVUEfv78+fL58+eXd+/evZYPHz68fPny5f+tIYRHcJoIEOwKfi+fPn36f48QwiM4RQS+ffv2GvAfP358+fPnz+t3yggiAiE8luEiQNBr1JcAwK9fvyICIVyA4SKgaUDm/iFck6Ei4FkAi4IhhOsxVAS+f//+TwRCCNdkaHQy30cAWBAMIVyToSKgLIA7ASGEazJMBH7//v1PBLhFGEK4JsNE4MePHxGBEG7AMBH4+vXrPxHgmYAQwjUZJgJaFIwIhHBthokAPw6KCIRwfYaJgASAEkK4LkMi1J8UjAiEcG2GRKh+HBQRCOH6DIlQficgAWBtIIRwXYaIgN4fQMlPhc/l79+/r89o8JQmj2urH96/f//6S04e4grBiQg8Gf57Dd2VQRj0k27EIEIQnCEi4O8RjAicC+1NoBP4Jbptm3c7BGeICGg0oszw4yFGXAUYn/4GJSAzIjDZ/shRWP0SYQ7OcBF49t8NMP8m8Bl5NQ3ykdbfqUCpjdBnoX5JJtAP+tP7l3K3xfAhIqBRj/LsIoATaHSXQ1B/0F0ShIC/H/leBX92I09w9sd/K3O37HeICKgxKM8uAiVakSfQEAMyhSsgu3DW0B+/LY7o34lpRaB8oGlrWRtFfRX+KgEnmzINGIemgpS73X3pLgLlHGk2EdAawCNTfycCcA5+R+xudLe4DK7Z3jKsueEVRCACcB5aB7vjnZfhIrA2cj4TzP9xBjnEI1F6GgEYD+m//P2Oa2BPIQJMQUjD/dYkhRTtrPmZXqdGfWXHnrpTB7IICUhrPYHMSs8ktEYd2dJDAFptiw18Vz4T4Sz1y9YMkbqwv9pFhXNSv9bCK22vxVBsrfkB9ilboiz1F/sS4DonBZuwzacCS+fobVMvbi8COBmdQaPKsXBMNTbbaNgR0Pk4hoJOo4CmBNgm1py+DBRK6eC6jkpt1KHu1Lk1HeEYjt0C1+NcFNlCW7rTt0SAftextIP6QN9z7NrCqdqE6+k6nIfz6frsU1L6IAX/cDiPBzSlBX0nm2m/Wl1UtK2kt0096X4VOZkKlR+FFJOGKxvfA2aUDXSiruGjrtJDdTLO7ttLaDOcieN0LMUdXE7Eeagrf9eEpSYmZSmdr4baj33LtpUt2Fxjre239I38qGWrtpdCgq3YpfZujdK0k9qcc7RE022tjdzu761z9LapN7cVAY0GNFrppECAjLaBa3P+2ojGd7Kvtt3BKTyg3UmgdKIWLiBLpTZ6Omttp+tgZwnbltoFqI/O39pHYtayVTaUQoi9foy3Cb4JfGIj25ZQVuXHlri/t+rS06YRDBeBVrr4Fjinzo9S1yBgtE9NJK6Mp7s4BQ5Uy3ZGIMHh2muiU0PBu9bu2qcV5DrPlqxlDdUH0SIg+bvlN84WG9zft5xTHLVpBMNFYAQKcBqyhqdwj2rYt+AjBY545ghRCtAe3O41AdF+LRFwET8iRo4yK4KZsuV8XhfapIXbuWfAO2LTKG4nArVUku9QUzqLEZNtNGxtznwXVEfKmULm7bcX+mOLzaXI1fBUnIJdR4XQfXJrRrU1uI+21xGbRtE9SqVwKr3xUd4LzkShcY86y5WgLtSrle2MwKdZR0YmBQRlKXB8zWHpOvQjwaV9KfTvXpRuU5ZGdUfXXQpuH5Dw+z0csWkU3aNUzqvSG1foZ8bF9KxR4q3TKB27Nir6KLgWANTd96e0socWnnm0Fu8cF8Ola3l77Q3kvTaN5HYi4Od/VnykpDBqnIEH295r+si2FqTeh0sZg0PQ+PRgT0bgGcqabeB1WbqO12Nv9rnXppEMFQEq2hs//zNCUODsPr/e4/BvoZcILKX4nkLv9Q8fPbcGDu1Ie+7JILeIQCnUezhi00iGisAIhdsqAqRnS854VQgMBYdGixHtWKOXCCyJll/jyJRDbUJZQ4HKpwftWt28LrVUHSEjiLVusKd/jto0ktuJgI+QNGINOdoRJ3skiBbOpRTZRwqtC/BJIGxNo/fgc9xWIDMa06+19FfHtvpdwbO0D3VbEm/515pvafqgIPZ5vgc29Szr6hmHBFmo/bGxZgtt2LL/LTaNpLsI+GruWkcdwVWaznAFRRTUMd6oV0V1wRmwl79d2MqgxAFZMCwdsxcepHx62+LAEiX6uCYC2s6xnKtkbTvo/LXtbl9N4Ol7roFtnKNsJ/mmrq/2rw0muo5fi/05J4Xj5Wu6Dtmn7w89bRpFdxGgAipUfgRyplapOcgVIbCX7HanV+HftQDsBTb49cqCU2NXDb7HydkPsVK2wqfudrBd35coAHS811MByLaWX+lYCvuWdpbtTWmdSwFdFj+v38FRKfvQt73VplEMFYGRKQ2NLaegoKg0XsvBrojEDNtbwsX3EgICcKQACM+oKFwfWwnENXBy+t37huMJmFYdBX1H8LGvH0+hjfi+ZQPHal/2K4MN+E71wqY1/2S7Rmo+y/01urMde8vRe4RNI7itCIQQ+hARCGFyuooAqY2LwJb0MYTwWLqKgC/sRARCuAcRgRAmZ6gIhBCuT0QghMnpGqncDZAAcN80hHB9hokAD0CEEK7PMBE4+9HHEMIxuooAj0ZKBPKgUAj3oKsI+PPmZ/4KKoRwnGEicMYPXUIIb6erCEgAKCGEezBEBHJ7MIT70E0ESP8lArkzEMJ96CYC/rTg2ssjQgjXoZsI+DMCd3q7Twiz000E9IxA1gNCuBfdREDvwctDQiHciy4i4IuCmQqEcC+6iIDempu7AiHcj90iQLD7LwR5r6CmAskCQrgfu0TA36OuV4dpQTBrASHck10iUL45SCXTgBDuy+5MwH8kxP++wv8YE0K4L10WBkMI9yUiEMLkRARCmJyIQAiTExEIYXIiAiFMTkQghMmJCIQwORGBECYnIhDC5EQEQpiciEAIkxMRCGFyIgIhTM3Ly38h/8dRp8W53AAAAABJRU5ErkJggg==)"
      ],
      "metadata": {
        "id": "zqOYk2X3qQYu"
      }
    },
    {
      "cell_type": "code",
      "execution_count": null,
      "metadata": {
        "colab": {
          "base_uri": "https://localhost:8080/",
          "height": 93
        },
        "id": "rAXFdXNOenGM",
        "outputId": "28315bc4-1364-4d9b-9291-08f4aebdfdc6"
      },
      "outputs": [
        {
          "output_type": "display_data",
          "data": {
            "text/plain": [
              "x**2*exp(-x)*sin(x)/2 - x**2*exp(-x)*cos(x)/2 + x*exp(-x)*sin(x) + exp(-x)*sin(x)/2 + exp(-x)*cos(x)/2"
            ],
            "text/latex": "$\\displaystyle \\frac{x^{2} e^{- x} \\sin{\\left(x \\right)}}{2} - \\frac{x^{2} e^{- x} \\cos{\\left(x \\right)}}{2} + x e^{- x} \\sin{\\left(x \\right)} + \\frac{e^{- x} \\sin{\\left(x \\right)}}{2} + \\frac{e^{- x} \\cos{\\left(x \\right)}}{2}$"
          },
          "metadata": {}
        },
        {
          "output_type": "display_data",
          "data": {
            "text/plain": [
              "sqrt(2)*(-x**2*cos(x + pi/4) + x*sin(x + pi/4) - x*cos(x + pi/4) + sin(x + pi/4))*exp(-x)/2"
            ],
            "text/latex": "$\\displaystyle \\frac{\\sqrt{2} \\left(- x^{2} \\cos{\\left(x + \\frac{\\pi}{4} \\right)} + x \\sin{\\left(x + \\frac{\\pi}{4} \\right)} - x \\cos{\\left(x + \\frac{\\pi}{4} \\right)} + \\sin{\\left(x + \\frac{\\pi}{4} \\right)}\\right) e^{- x}}{2}$"
          },
          "metadata": {}
        }
      ],
      "source": [
        "#Basic\n",
        "x,y=sp.symbols('x y')\n",
        "expr1=sp.exp(-x)*x**2*sp.cos(x)\n",
        "intrgrnd=sp.integrate(expr1, x)\n",
        "display(intrgrnd)\n",
        "#To simplify the expression we may use simplify() function\n",
        "display(sp.simplify(intrgrnd))"
      ]
    },
    {
      "cell_type": "markdown",
      "source": [
        "## $dy/dx = x^2 + 5$"
      ],
      "metadata": {
        "id": "VxIwy4udo6dv"
      }
    },
    {
      "cell_type": "code",
      "source": [
        "#sp.eq(LS,RS)\n"
      ],
      "metadata": {
        "id": "Pt9V2unKoeLw"
      },
      "execution_count": null,
      "outputs": []
    },
    {
      "cell_type": "code",
      "source": [
        "import sympy as sp\n",
        "from sympy import *\n",
        "x = sp.symbols(\"x\")"
      ],
      "metadata": {
        "id": "xAenpI3spGkf"
      },
      "execution_count": null,
      "outputs": []
    },
    {
      "cell_type": "code",
      "source": [
        "y = sp.Function('y')(x)      # y is a function of x\n",
        "y"
      ],
      "metadata": {
        "colab": {
          "base_uri": "https://localhost:8080/",
          "height": 38
        },
        "id": "Mxmsab6YpSLH",
        "outputId": "6ef2a924-f606-45b4-f226-5a361171294a"
      },
      "execution_count": null,
      "outputs": [
        {
          "output_type": "execute_result",
          "data": {
            "text/plain": [
              "y(x)"
            ],
            "text/latex": "$\\displaystyle y{\\left(x \\right)}$"
          },
          "metadata": {},
          "execution_count": 4
        }
      ]
    },
    {
      "cell_type": "code",
      "source": [
        "ode = sp.Eq(sp.diff(y,x,1),(x**2+5))   # First order diff\n",
        "ode"
      ],
      "metadata": {
        "colab": {
          "base_uri": "https://localhost:8080/",
          "height": 52
        },
        "id": "zEiHrejWpkui",
        "outputId": "62c87b45-37e1-46d2-dab2-23baa6dfdb27"
      },
      "execution_count": null,
      "outputs": [
        {
          "output_type": "execute_result",
          "data": {
            "text/plain": [
              "Eq(Derivative(y(x), x), x**2 + 5)"
            ],
            "text/latex": "$\\displaystyle \\frac{d}{d x} y{\\left(x \\right)} = x^{2} + 5$"
          },
          "metadata": {},
          "execution_count": 5
        }
      ]
    },
    {
      "cell_type": "code",
      "source": [
        "# dsolve   # To solve differential equation do integrate\n",
        "sp.dsolve(ode)"
      ],
      "metadata": {
        "colab": {
          "base_uri": "https://localhost:8080/",
          "height": 54
        },
        "id": "F-v3O9chqIEf",
        "outputId": "4770adcc-4b4c-4c83-f6a8-6088b92d0528"
      },
      "execution_count": null,
      "outputs": [
        {
          "output_type": "execute_result",
          "data": {
            "text/plain": [
              "Eq(y(x), C1 + x**3/3 + 5*x)"
            ],
            "text/latex": "$\\displaystyle y{\\left(x \\right)} = C_{1} + \\frac{x^{3}}{3} + 5 x$"
          },
          "metadata": {},
          "execution_count": 6
        }
      ]
    },
    {
      "cell_type": "markdown",
      "source": [
        "## $d^2y/dt^2 + dy/dt - 6 = 0 $"
      ],
      "metadata": {
        "id": "yh-etqwBrFUy"
      }
    },
    {
      "cell_type": "code",
      "source": [
        "t = sp.symbols('t')\n",
        "y = sp.Function('y')(t)      # y is a function of x\n",
        "y"
      ],
      "metadata": {
        "colab": {
          "base_uri": "https://localhost:8080/",
          "height": 38
        },
        "id": "gidKtBPaq63M",
        "outputId": "6dd37f02-7e3f-448c-808b-6481f459d816"
      },
      "execution_count": null,
      "outputs": [
        {
          "output_type": "execute_result",
          "data": {
            "text/plain": [
              "y(t)"
            ],
            "text/latex": "$\\displaystyle y{\\left(t \\right)}$"
          },
          "metadata": {},
          "execution_count": 8
        }
      ]
    },
    {
      "cell_type": "code",
      "source": [
        "ode = sp.Eq(sp.diff(y,t,2)+sp.diff(y,t,1),(6))  # Second order diff\n",
        "ode"
      ],
      "metadata": {
        "colab": {
          "base_uri": "https://localhost:8080/",
          "height": 54
        },
        "id": "HMmHYRP-rSza",
        "outputId": "ef0828c8-6137-40da-ed94-6b03c4a4110e"
      },
      "execution_count": null,
      "outputs": [
        {
          "output_type": "execute_result",
          "data": {
            "text/plain": [
              "Eq(Derivative(y(t), t) + Derivative(y(t), (t, 2)), 6)"
            ],
            "text/latex": "$\\displaystyle \\frac{d}{d t} y{\\left(t \\right)} + \\frac{d^{2}}{d t^{2}} y{\\left(t \\right)} = 6$"
          },
          "metadata": {},
          "execution_count": 12
        }
      ]
    },
    {
      "cell_type": "code",
      "source": [
        "ode = sp.Eq(sp.diff(y,t,2)+sp.diff(y,t,1)-6,0)\n",
        "ode"
      ],
      "metadata": {
        "colab": {
          "base_uri": "https://localhost:8080/",
          "height": 54
        },
        "id": "cXD-UbEitNrW",
        "outputId": "51a8957a-1a65-435a-daca-6f40b4be6547"
      },
      "execution_count": null,
      "outputs": [
        {
          "output_type": "execute_result",
          "data": {
            "text/plain": [
              "Eq(Derivative(y(t), t) + Derivative(y(t), (t, 2)) - 6, 0)"
            ],
            "text/latex": "$\\displaystyle \\frac{d}{d t} y{\\left(t \\right)} + \\frac{d^{2}}{d t^{2}} y{\\left(t \\right)} - 6 = 0$"
          },
          "metadata": {},
          "execution_count": 11
        }
      ]
    },
    {
      "cell_type": "code",
      "source": [
        "sp.dsolve(ode) # Initial Value problem (C1, C2)"
      ],
      "metadata": {
        "colab": {
          "base_uri": "https://localhost:8080/",
          "height": 38
        },
        "id": "NJO_xsBZsW8M",
        "outputId": "10297c88-bc4e-426b-ceb4-156fd94cb2e0"
      },
      "execution_count": null,
      "outputs": [
        {
          "output_type": "execute_result",
          "data": {
            "text/plain": [
              "Eq(y(t), C1 + C2*exp(-t) + 6*t)"
            ],
            "text/latex": "$\\displaystyle y{\\left(t \\right)} = C_{1} + C_{2} e^{- t} + 6 t$"
          },
          "metadata": {},
          "execution_count": 10
        }
      ]
    },
    {
      "cell_type": "markdown",
      "source": [
        "##$dy/dt = t^2+5$\n",
        "##$y(0)=0$"
      ],
      "metadata": {
        "id": "v-gyHOscuD4i"
      }
    },
    {
      "cell_type": "code",
      "source": [
        "t = sp.symbols('t')\n",
        "y = sp.Function('y')(t)      # y is a function of x\n",
        "ode = sp.Eq(sp.diff(y,t,1),t**2+5)\n",
        "ode"
      ],
      "metadata": {
        "colab": {
          "base_uri": "https://localhost:8080/",
          "height": 52
        },
        "id": "NLzOEBiSt6Xk",
        "outputId": "428ccc3c-eee9-4157-ea46-8c6fcc330c64"
      },
      "execution_count": null,
      "outputs": [
        {
          "output_type": "execute_result",
          "data": {
            "text/plain": [
              "Eq(Derivative(y(t), t), t**2 + 5)"
            ],
            "text/latex": "$\\displaystyle \\frac{d}{d t} y{\\left(t \\right)} = t^{2} + 5$"
          },
          "metadata": {},
          "execution_count": 9
        }
      ]
    },
    {
      "cell_type": "code",
      "source": [
        "# write \"ics\" in a Dictionary for passing Boundary condition\n",
        "boundary = {y.subs(t,0):'0'}\n",
        "sp.dsolve(ode,ics= boundary)"
      ],
      "metadata": {
        "colab": {
          "base_uri": "https://localhost:8080/",
          "height": 54
        },
        "id": "JSfooTVgum73",
        "outputId": "b8860c09-ede8-4e61-b29e-ea734cfc17b7"
      },
      "execution_count": null,
      "outputs": [
        {
          "output_type": "execute_result",
          "data": {
            "text/plain": [
              "Eq(y(t), t**3/3 + 5*t)"
            ],
            "text/latex": "$\\displaystyle y{\\left(t \\right)} = \\frac{t^{3}}{3} + 5 t$"
          },
          "metadata": {},
          "execution_count": 10
        }
      ]
    },
    {
      "cell_type": "code",
      "source": [
        "sp.dsolve(ode,ics= {y.subs(t,0):'0'}) # No integrating constant"
      ],
      "metadata": {
        "colab": {
          "base_uri": "https://localhost:8080/",
          "height": 54
        },
        "id": "FKE4oMmZvNPe",
        "outputId": "9f64e0d4-55a8-46bd-9664-455d530f99bb"
      },
      "execution_count": null,
      "outputs": [
        {
          "output_type": "execute_result",
          "data": {
            "text/plain": [
              "Eq(y(t), t**3/3 + 5*t)"
            ],
            "text/latex": "$\\displaystyle y{\\left(t \\right)} = \\frac{t^{3}}{3} + 5 t$"
          },
          "metadata": {},
          "execution_count": 18
        }
      ]
    },
    {
      "cell_type": "markdown",
      "source": [
        "## $d^2x/dt^2=-\\omega^2x$\n",
        "## $x(0) = 0$\n",
        "## $x^\\prime(0) = 0$"
      ],
      "metadata": {
        "id": "FpVIHICKwEA1"
      }
    },
    {
      "cell_type": "code",
      "source": [
        "# Symbol harmonic motion\n",
        "t = sp.symbols('t')\n",
        "w = sp.symbols('omega')\n",
        "y = sp.Function('y')(t)\n",
        "ode = sp.Eq(sp.diff(y,t,2),-w**2*x)\n",
        "ode\n"
      ],
      "metadata": {
        "colab": {
          "base_uri": "https://localhost:8080/",
          "height": 54
        },
        "id": "EgHWCXnTvqS0",
        "outputId": "12185aa4-8904-4429-fbe1-d2d24b395911"
      },
      "execution_count": null,
      "outputs": [
        {
          "output_type": "execute_result",
          "data": {
            "text/plain": [
              "Eq(Derivative(y(t), (t, 2)), -omega**2*x)"
            ],
            "text/latex": "$\\displaystyle \\frac{d^{2}}{d t^{2}} y{\\left(t \\right)} = - \\omega^{2} x$"
          },
          "metadata": {},
          "execution_count": 5
        }
      ]
    },
    {
      "cell_type": "code",
      "source": [
        "boundary = {x.subs(t,0):'0',sp.diff(x,t,1).subs(t,0):'0'}"
      ],
      "metadata": {
        "id": "MWWevzpxzBub"
      },
      "execution_count": null,
      "outputs": []
    },
    {
      "cell_type": "code",
      "source": [
        "sp.dsolve(ode,ics=boundary)"
      ],
      "metadata": {
        "colab": {
          "base_uri": "https://localhost:8080/",
          "height": 54
        },
        "id": "WcF0RaK_sTmm",
        "outputId": "eda5f402-52be-4547-fd26-0c73412a9978"
      },
      "execution_count": null,
      "outputs": [
        {
          "output_type": "execute_result",
          "data": {
            "text/plain": [
              "Eq(y(t), t**3/3 + 5*t)"
            ],
            "text/latex": "$\\displaystyle y{\\left(t \\right)} = \\frac{t^{3}}{3} + 5 t$"
          },
          "metadata": {},
          "execution_count": 12
        }
      ]
    },
    {
      "cell_type": "code",
      "source": [
        "sp.dsolve(ode,ics= boundary).simplify()"
      ],
      "metadata": {
        "id": "h_T9AIMBzHSz",
        "outputId": "ffa0b50e-0110-403d-c661-b6e699e5f450",
        "colab": {
          "base_uri": "https://localhost:8080/",
          "height": 56
        }
      },
      "execution_count": null,
      "outputs": [
        {
          "output_type": "execute_result",
          "data": {
            "text/plain": [
              "Eq(y(t), t*(t**2 + 15)/3)"
            ],
            "text/latex": "$\\displaystyle y{\\left(t \\right)} = \\frac{t \\left(t^{2} + 15\\right)}{3}$"
          },
          "metadata": {},
          "execution_count": 13
        }
      ]
    },
    {
      "cell_type": "markdown",
      "source": [
        "# Practice"
      ],
      "metadata": {
        "id": "EDWNtvVYPFlp"
      }
    },
    {
      "cell_type": "code",
      "source": [
        "# Integration\n",
        "\n",
        "import sympy as sp\n",
        "x = sp.symbols(\"x\")\n",
        "y = sp.symbols(\"y\")\n",
        "f1 = x/(x*y+1)**2\n",
        "# d = sp.diff(f1,y,1)\n",
        "i = sp.integrate(f1,y)\n",
        "# i = sp.integrate(f1,(y,0,1))\n",
        "i"
      ],
      "metadata": {
        "colab": {
          "base_uri": "https://localhost:8080/",
          "height": 51
        },
        "id": "YXOx8lHGPHVx",
        "outputId": "30268ede-eaef-4f32-91f4-4214ede108f1"
      },
      "execution_count": null,
      "outputs": [
        {
          "output_type": "execute_result",
          "data": {
            "text/plain": [
              "-x/(x**2*y + x)"
            ],
            "text/latex": "$\\displaystyle - \\frac{x}{x^{2} y + x}$"
          },
          "metadata": {},
          "execution_count": 8
        }
      ]
    },
    {
      "cell_type": "code",
      "source": [
        "x = sp.symbols(\"x\")\n",
        "y = sp.symbols(\"y\")\n",
        "f1 = 1/(x*y+1)**2\n",
        "i = sp.integrate(f1,y)\n",
        "i"
      ],
      "metadata": {
        "colab": {
          "base_uri": "https://localhost:8080/",
          "height": 54
        },
        "id": "r3CTN9tcT4QV",
        "outputId": "14bf1def-87a7-4714-813a-de8a2adf9649"
      },
      "execution_count": null,
      "outputs": [
        {
          "output_type": "execute_result",
          "data": {
            "text/plain": [
              "-1/(x**2*y + x)"
            ],
            "text/latex": "$\\displaystyle - \\frac{1}{x^{2} y + x}$"
          },
          "metadata": {},
          "execution_count": 11
        }
      ]
    },
    {
      "cell_type": "markdown",
      "source": [
        "# Lab 06\n"
      ],
      "metadata": {
        "id": "0LYz_fgVqjQd"
      }
    },
    {
      "cell_type": "code",
      "source": [
        "# odient function to solve first order diff\n",
        "# System of DE"
      ],
      "metadata": {
        "id": "RSDkS9xFql5s"
      },
      "execution_count": null,
      "outputs": []
    },
    {
      "cell_type": "code",
      "source": [
        "from scipy.integrate import odeint"
      ],
      "metadata": {
        "id": "cUiyUtJqsjJu"
      },
      "execution_count": null,
      "outputs": []
    },
    {
      "cell_type": "markdown",
      "source": [
        "## $dy/dt = v$\n",
        "## $dv/dt = g-\\frac{b}{m}v$\n",
        "## $y(0) = 0$\n",
        "## $y'(0)=0$"
      ],
      "metadata": {
        "id": "VWVLsI1as1jU"
      }
    },
    {
      "cell_type": "code",
      "source": [
        "# Define System\n",
        "def falling_body(y,t,drag_coff):\n",
        "  gravity = 9.8\n",
        "  mass = 1\n",
        "  y,v = y\n",
        "  dydt = v\n",
        "  dvdt = gravity - (drag_coff/mass)*v\n",
        "  return [dydt,dvdt]  # position, velocity"
      ],
      "metadata": {
        "id": "CK747juRsv4l"
      },
      "execution_count": null,
      "outputs": []
    },
    {
      "cell_type": "code",
      "source": [
        "# odeint(system, initial argument, ste, additional as tupple)\n",
        "import numpy as np\n",
        "import matplotlib.pyplot as plt\n",
        "\n",
        "step = np.linspace(0,100,100) # akta line k 100 vage vag korbe\n",
        "drag_coff = [1,1.5,2]\n",
        "initial_cond = [0,0]\n",
        "result = []\n",
        "for drag in drag_coff:\n",
        "  soln = odeint(falling_body,initial_cond,step,args=(drag,))\n",
        "  print(f'The vertical position of the object at different time for drag {drag} is {soln[:,0]}') # position at time t\n",
        "  result.append(soln[:,0])\n",
        "  plt.plot(step,soln[:,0],label=f'drag ={drag}')\n",
        "  plt.legend()"
      ],
      "metadata": {
        "colab": {
          "base_uri": "https://localhost:8080/",
          "height": 1000
        },
        "id": "e_ldo-O4uNZk",
        "outputId": "027442c1-b822-47ee-d26b-0ed84f5491be"
      },
      "execution_count": null,
      "outputs": [
        {
          "output_type": "stream",
          "name": "stdout",
          "text": [
            "The vertical position of the object at different time for drag 1 is [  0.           3.66797537  11.29774078  20.37031953  29.9683452\n",
            "  39.75772927  49.61680267  59.50125568  69.39495151  79.29201341\n",
            "  89.19030116  99.08903536 108.98793212 118.8868881  128.78586568\n",
            " 138.68485106 148.5838393  158.48282864 168.38181832 178.28080813\n",
            " 188.179798   198.07878789 207.97777778 217.87676767 227.77575757\n",
            " 237.67474747 247.57373737 257.47272727 267.37171717 277.27070707\n",
            " 287.16969697 297.06868687 306.96767677 316.86666667 326.76565657\n",
            " 336.66464646 346.56363636 356.46262626 366.36161616 376.26060606\n",
            " 386.15959596 396.05858586 405.95757576 415.85656566 425.75555556\n",
            " 435.65454545 445.55353535 455.45252525 465.35151515 475.25050505\n",
            " 485.14949495 495.04848485 504.94747475 514.84646465 524.74545455\n",
            " 534.64444444 544.54343434 554.44242424 564.34141414 574.24040404\n",
            " 584.13939394 594.03838384 603.93737374 613.83636364 623.73535354\n",
            " 633.63434343 643.53333333 653.43232323 663.33131313 673.23030303\n",
            " 683.12929293 693.02828283 702.92727273 712.82626263 722.72525253\n",
            " 732.62424242 742.52323232 752.42222222 762.32121212 772.22020202\n",
            " 782.11919192 792.01818182 801.91717172 811.81616162 821.71515152\n",
            " 831.61414141 841.51313131 851.41212121 861.31111111 871.21010101\n",
            " 881.10909091 891.00808081 900.90707071 910.80606061 920.70505051\n",
            " 930.6040404  940.5030303  950.4020202  960.3010101  970.2       ]\n",
            "The vertical position of the object at different time for drag 1.5 is [  0.           3.20101273   9.05347534  15.48865998  22.0519123\n",
            "  28.64331067  35.24089485  41.83983851  48.43908094  55.03838905\n",
            "  61.63771158  68.23703729  74.8363637   81.43569025  88.03501684\n",
            "  94.63434343 101.23367003 107.83299663 114.43232323 121.03164983\n",
            " 127.63097643 134.23030303 140.82962963 147.42895623 154.02828283\n",
            " 160.62760943 167.22693603 173.82626263 180.42558923 187.02491582\n",
            " 193.62424242 200.22356902 206.82289562 213.42222222 220.02154882\n",
            " 226.62087542 233.22020202 239.81952862 246.41885522 253.01818182\n",
            " 259.61750842 266.21683502 272.81616162 279.41548822 286.01481481\n",
            " 292.61414141 299.21346801 305.81279461 312.41212121 319.01144781\n",
            " 325.61077441 332.21010101 338.80942761 345.40875421 352.00808081\n",
            " 358.60740741 365.20673401 371.80606061 378.40538721 385.0047138\n",
            " 391.6040404  398.203367   404.8026936  411.4020202  418.0013468\n",
            " 424.6006734  431.2        437.7993266  444.3986532  450.9979798\n",
            " 457.5973064  464.196633   470.7959596  477.3952862  483.99461279\n",
            " 490.59393939 497.19326599 503.79259259 510.39191919 516.99124579\n",
            " 523.59057239 530.18989899 536.78922559 543.38855219 549.98787879\n",
            " 556.58720539 563.18653199 569.78585859 576.38518519 582.98451178\n",
            " 589.58383838 596.18316498 602.78249158 609.38181818 615.98114478\n",
            " 622.58047138 629.17979798 635.77912458 642.37845118 648.97777778]\n",
            "The vertical position of the object at different time for drag 2 is [  0.           2.82443518   7.4920863   12.40420067  17.34873788\n",
            "  22.29757529  27.24698303  32.19646642  37.14595983  42.09545458\n",
            "  47.0449495   51.99444444  56.94393939  61.89343434  66.84292929\n",
            "  71.79242424  76.74191919  81.69141414  86.64090909  91.59040404\n",
            "  96.53989899 101.48939394 106.43888889 111.38838384 116.33787879\n",
            " 121.28737374 126.23686869 131.18636364 136.13585859 141.08535354\n",
            " 146.03484848 150.98434343 155.93383838 160.88333333 165.83282828\n",
            " 170.78232323 175.73181818 180.68131313 185.63080808 190.58030303\n",
            " 195.52979798 200.47929293 205.42878788 210.37828283 215.32777778\n",
            " 220.27727273 225.22676768 230.17626263 235.12575758 240.07525253\n",
            " 245.02474747 249.97424242 254.92373737 259.87323232 264.82272727\n",
            " 269.77222222 274.72171717 279.67121212 284.62070707 289.57020202\n",
            " 294.51969697 299.46919192 304.41868687 309.36818182 314.31767677\n",
            " 319.26717172 324.21666667 329.16616162 334.11565657 339.06515152\n",
            " 344.01464646 348.96414141 353.91363636 358.86313131 363.81262626\n",
            " 368.76212121 373.71161616 378.66111111 383.61060606 388.56010101\n",
            " 393.50959596 398.45909091 403.40858586 408.35808081 413.30757576\n",
            " 418.25707071 423.20656566 428.15606061 433.10555556 438.05505051\n",
            " 443.00454545 447.9540404  452.90353535 457.8530303  462.80252525\n",
            " 467.7520202  472.70151515 477.6510101  482.60050505 487.55      ]\n"
          ]
        },
        {
          "output_type": "display_data",
          "data": {
            "text/plain": [
              "<Figure size 640x480 with 1 Axes>"
            ],
            "image/png": "[encoded data removed]"
          },
          "metadata": {}
        }
      ]
    },
    {
      "cell_type": "code",
      "source": [
        "import sympy as sp\n",
        "t = sp.symbols('t')\n",
        "y = sp.Function('y')(t)\n",
        "v = sp.Function('v')(t)"
      ],
      "metadata": {
        "id": "DnuwIswT07uh"
      },
      "execution_count": null,
      "outputs": []
    },
    {
      "cell_type": "code",
      "source": [
        "eq1 = sp.Eq(sp.diff(y,t,1),v)\n",
        "eq2 = sp.Eq(sp.diff(v,t,1),9.8-(1.5/1)*v)\n",
        "display(eq1)\n",
        "display(eq2)"
      ],
      "metadata": {
        "colab": {
          "base_uri": "https://localhost:8080/",
          "height": 87
        },
        "id": "TeteWJl21VgI",
        "outputId": "972a5bc4-7cad-4b18-8831-2dd46fc47b16"
      },
      "execution_count": null,
      "outputs": [
        {
          "output_type": "display_data",
          "data": {
            "text/plain": [
              "Eq(Derivative(y(t), t), v(t))"
            ],
            "text/latex": "$\\displaystyle \\frac{d}{d t} y{\\left(t \\right)} = v{\\left(t \\right)}$"
          },
          "metadata": {}
        },
        {
          "output_type": "display_data",
          "data": {
            "text/plain": [
              "Eq(Derivative(v(t), t), 9.8 - 1.5*v(t))"
            ],
            "text/latex": "$\\displaystyle \\frac{d}{d t} v{\\left(t \\right)} = 9.8 - 1.5 v{\\left(t \\right)}$"
          },
          "metadata": {}
        }
      ]
    },
    {
      "cell_type": "code",
      "source": [
        "system = [eq1, eq2]\n",
        "sp.dsolve(system)\n",
        "boundary = {y.subs(t,0):\"0\",sp.diff(y,t,1).subs(t,0):\"0\"}\n",
        "solution = sp.dsolve(system,ics = boundary)"
      ],
      "metadata": {
        "id": "7L5I8Cp72DAD"
      },
      "execution_count": null,
      "outputs": []
    },
    {
      "cell_type": "code",
      "source": [
        "for i in range(2):\n",
        "  display(solution[i])"
      ],
      "metadata": {
        "colab": {
          "base_uri": "https://localhost:8080/",
          "height": 61
        },
        "id": "wJrOWxDN2Zq3",
        "outputId": "cf666287-a731-4d0f-da59-ef3a29d806b5"
      },
      "execution_count": null,
      "outputs": [
        {
          "output_type": "display_data",
          "data": {
            "text/plain": [
              "Eq(y(t), 6.53333333333333*t - 4.35555555555556 + 4.35555555555556*exp(-1.5*t))"
            ],
            "text/latex": "$\\displaystyle y{\\left(t \\right)} = 6.53333333333333 t - 4.35555555555556 + 4.35555555555556 e^{- 1.5 t}$"
          },
          "metadata": {}
        },
        {
          "output_type": "display_data",
          "data": {
            "text/plain": [
              "Eq(v(t), 6.53333333333333 - 6.53333333333333*exp(-1.5*t))"
            ],
            "text/latex": "$\\displaystyle v{\\left(t \\right)} = 6.53333333333333 - 6.53333333333333 e^{- 1.5 t}$"
          },
          "metadata": {}
        }
      ]
    },
    {
      "cell_type": "code",
      "source": [
        "sp.plot(solution[0].rhs,(t,0,100)) # Non-linear\n"
      ],
      "metadata": {
        "colab": {
          "base_uri": "https://localhost:8080/",
          "height": 502
        },
        "id": "DAoY6-ND3KLi",
        "outputId": "00337b67-5cc4-4f24-eb60-91cf7f8c0925"
      },
      "execution_count": null,
      "outputs": [
        {
          "output_type": "display_data",
          "data": {
            "text/plain": [
              "<Figure size 640x480 with 1 Axes>"
            ],
            "image/png": "[encoded data removed]"
          },
          "metadata": {}
        },
        {
          "output_type": "execute_result",
          "data": {
            "text/plain": [
              "<sympy.plotting.plot.Plot at 0x79a018f237f0>"
            ]
          },
          "metadata": {},
          "execution_count": 42
        }
      ]
    },
    {
      "cell_type": "code",
      "source": [
        "import sympy as sp\n",
        "x = sp.symbols(\"x\")\n",
        "s = sp.sin(sp.exp(-x))**3\n",
        "s"
      ],
      "metadata": {
        "colab": {
          "base_uri": "https://localhost:8080/",
          "height": 39
        },
        "id": "RKWjW0mQwuuo",
        "outputId": "cd30d5dc-1590-469d-84ed-637ca8067fc6"
      },
      "execution_count": null,
      "outputs": [
        {
          "output_type": "execute_result",
          "data": {
            "text/plain": [
              "sin(exp(-x))**3"
            ],
            "text/latex": "$\\displaystyle \\sin^{3}{\\left(e^{- x} \\right)}$"
          },
          "metadata": {},
          "execution_count": 3
        }
      ]
    },
    {
      "cell_type": "code",
      "source": [
        "x,y,z = sp.symbols('x y z')\n",
        "expr = x*y + y*z + z\n",
        "expr.subs([(x,0),(y,1),(z,2)])"
      ],
      "metadata": {
        "colab": {
          "base_uri": "https://localhost:8080/",
          "height": 37
        },
        "id": "rLx1hOfCxQuB",
        "outputId": "d4e96a53-01f9-46f2-f36d-16c7ebc16af4"
      },
      "execution_count": null,
      "outputs": [
        {
          "output_type": "execute_result",
          "data": {
            "text/plain": [
              "4"
            ],
            "text/latex": "$\\displaystyle 4$"
          },
          "metadata": {},
          "execution_count": 4
        }
      ]
    },
    {
      "cell_type": "code",
      "source": [
        "import numpy as np\n",
        "np.arange(1,10,2)"
      ],
      "metadata": {
        "colab": {
          "base_uri": "https://localhost:8080/"
        },
        "id": "9QuzY9-SySdh",
        "outputId": "b154b2a0-250a-43b7-d414-c74dcf83daed"
      },
      "execution_count": null,
      "outputs": [
        {
          "output_type": "execute_result",
          "data": {
            "text/plain": [
              "array([1, 3, 5, 7, 9])"
            ]
          },
          "metadata": {},
          "execution_count": 5
        }
      ]
    },
    {
      "cell_type": "code",
      "source": [
        "n = sp.integrate(sp.exp(2*x) / sp.sqrt(sp.exp(x) + 5), (x, 0, sp.log(4)))\n",
        "n\n",
        "n.evalf()"
      ],
      "metadata": {
        "colab": {
          "base_uri": "https://localhost:8080/",
          "height": 37
        },
        "id": "dfwHzXUxzhPX",
        "outputId": "32480f2e-48f8-4f3e-8058-7a591bd6f82d"
      },
      "execution_count": null,
      "outputs": [
        {
          "output_type": "execute_result",
          "data": {
            "text/plain": [
              "2.69693845669907"
            ],
            "text/latex": "$\\displaystyle 2.69693845669907$"
          },
          "metadata": {},
          "execution_count": 14
        }
      ]
    },
    {
      "cell_type": "markdown",
      "source": [
        "# Lab 07 - Euler's Method\n",
        "Euler's Method - For Diff\\\n",
        "Numerical Integration:\\\n",
        "Trapezoidal\\\n",
        "Monte-Carlo"
      ],
      "metadata": {
        "id": "kT9IxJUAriOb"
      }
    },
    {
      "cell_type": "markdown",
      "source": [
        "##$dy/dx = y$\n",
        "##$y(0) = 1$\n"
      ],
      "metadata": {
        "id": "Dkhj7GVxuI51"
      }
    },
    {
      "cell_type": "code",
      "source": [
        "import numpy as np\n",
        "import matplotlib.pyplot as plt\n",
        "\n",
        "a = 0\n",
        "b = 5\n",
        "N = 1001\n",
        "\n",
        "h = (b-a)/(N-1)\n",
        "x = np.linspace(a,b,N)\n",
        "y = 0*x\n",
        "y[0] = 1 # Initial Value\n",
        "\n",
        "for i in range(1,N):\n",
        "  y[i] = y[i-1] + h*y[i-1]         # yi = y(i-1) + h*f(xi,yi)\n",
        "\n",
        "plt.plot(x,y)"
      ],
      "metadata": {
        "colab": {
          "base_uri": "https://localhost:8080/",
          "height": 447
        },
        "id": "FLlppTIBrlD7",
        "outputId": "f815cca4-529d-497f-c500-6a4c58f4a2e7"
      },
      "execution_count": null,
      "outputs": [
        {
          "output_type": "execute_result",
          "data": {
            "text/plain": [
              "[<matplotlib.lines.Line2D at 0x7fb8ed8704f0>]"
            ]
          },
          "metadata": {},
          "execution_count": 10
        },
        {
          "output_type": "display_data",
          "data": {
            "text/plain": [
              "<Figure size 640x480 with 1 Axes>"
            ],
            "image/png": "[encoded data removed]"
          },
          "metadata": {}
        }
      ]
    },
    {
      "cell_type": "code",
      "source": [
        "# Euler in 2nd order diff\n",
        "import numpy as np\n",
        "import matplotlib.pyplot as plt\n",
        "\n",
        "f = lambda v,p: -2*v-2*p   #dy/dx, y\n",
        "a = 0\n",
        "b = 5\n",
        "N = 1001\n",
        "\n",
        "h = (b-a)/(N-1)\n",
        "x = np.linspace(a,b,N)\n",
        "v = 0*x\n",
        "y = 0*x\n",
        "y[0] = 2 # Initial Value\n",
        "v[0] = 1\n",
        "\n",
        "# yi = y(i-1) + h*f(xi,yi)\n",
        "for i in range(1,N):\n",
        "  v[i] = v[i-1] + h*f(v[i-1],y[i-1])\n",
        "  y[i] = y[i-1] + h*v[i]\n",
        "\n",
        "plt.plot(x,y)"
      ],
      "metadata": {
        "colab": {
          "base_uri": "https://localhost:8080/",
          "height": 447
        },
        "id": "LKZ1FWu1xG1n",
        "outputId": "7f9d5f8e-2306-4a21-97ab-db9dedd5f512"
      },
      "execution_count": null,
      "outputs": [
        {
          "output_type": "execute_result",
          "data": {
            "text/plain": [
              "[<matplotlib.lines.Line2D at 0x7fb8ed9fcb50>]"
            ]
          },
          "metadata": {},
          "execution_count": 9
        },
        {
          "output_type": "display_data",
          "data": {
            "text/plain": [
              "<Figure size 640x480 with 1 Axes>"
            ],
            "image/png": "[encoded data removed]"
          },
          "metadata": {}
        }
      ]
    },
    {
      "cell_type": "markdown",
      "source": [
        "$\\int_{0}^{1}e^xdx$"
      ],
      "metadata": {
        "id": "a9qCfk7R1hwk"
      }
    },
    {
      "cell_type": "code",
      "source": [
        "import sympy as sp\n",
        "x = sp.symbols('x')\n",
        "sp.integrate(sp.exp(x),(x,0,1)).evalf()"
      ],
      "metadata": {
        "colab": {
          "base_uri": "https://localhost:8080/",
          "height": 37
        },
        "id": "47nK-zEF0UDr",
        "outputId": "c8fa9657-d57f-42d2-f92b-572cafe620dc"
      },
      "execution_count": null,
      "outputs": [
        {
          "output_type": "execute_result",
          "data": {
            "text/plain": [
              "1.71828182845905"
            ],
            "text/latex": "$\\displaystyle 1.71828182845905$"
          },
          "metadata": {},
          "execution_count": 11
        }
      ]
    },
    {
      "cell_type": "code",
      "source": [
        "# trapezoidal\n",
        "a = 0\n",
        "b = 1\n",
        "N = 10001\n",
        "h = (b-a)/(N-1)\n",
        "\n",
        "def f(x):\n",
        "  return np.exp(x)\n",
        "\n",
        "x = np.linspace(a,b,N)\n",
        "\n",
        "s = 0\n",
        "for i in range(N):\n",
        "  s += f(x[i]) * h\n",
        "print(s)\n"
      ],
      "metadata": {
        "colab": {
          "base_uri": "https://localhost:8080/"
        },
        "id": "cJ6C9R5t2ETN",
        "outputId": "3bdbb8f6-cc86-4272-f735-cef29b81ca14"
      },
      "execution_count": null,
      "outputs": [
        {
          "output_type": "stream",
          "name": "stdout",
          "text": [
            "1.7184677439823697\n"
          ]
        }
      ]
    },
    {
      "cell_type": "markdown",
      "source": [
        "$\\int_{0}^{1}sinx$"
      ],
      "metadata": {
        "id": "qbe2KrYI4wlf"
      }
    },
    {
      "cell_type": "code",
      "source": [
        "import sympy as sp\n",
        "x = sp.symbols('x')\n",
        "sp.integrate(sp.sin(x),(x,0,1)).evalf()"
      ],
      "metadata": {
        "colab": {
          "base_uri": "https://localhost:8080/",
          "height": 37
        },
        "id": "kZk8u3O66R-Y",
        "outputId": "5d46eb02-4309-4400-ff5a-f58fbe961dcc"
      },
      "execution_count": null,
      "outputs": [
        {
          "output_type": "execute_result",
          "data": {
            "text/plain": [
              "0.459697694131860"
            ],
            "text/latex": "$\\displaystyle 0.45969769413186$"
          },
          "metadata": {},
          "execution_count": 16
        }
      ]
    },
    {
      "cell_type": "code",
      "source": [
        "# Monte-Carlo [SImulation based with randomness]\n",
        "\n",
        "from numpy.random import *\n",
        "a = 0\n",
        "b = 1\n",
        "N = 1000000\n",
        "x = rand(N)\n",
        "\n",
        "def f(x):\n",
        "  return np.sin(x)\n",
        "\n",
        "y_sum = 0\n",
        "for i in range(N):\n",
        "  y_sum += f(x[i])\n",
        "result = (b-a)*(y_sum/N)\n",
        "print(result)"
      ],
      "metadata": {
        "colab": {
          "base_uri": "https://localhost:8080/"
        },
        "id": "kfO4FULt3ACQ",
        "outputId": "39f24938-5c9c-47a6-9dad-e83099cd0f54"
      },
      "execution_count": null,
      "outputs": [
        {
          "output_type": "stream",
          "name": "stdout",
          "text": [
            "0.45924081955346263\n"
          ]
        }
      ]
    }
  ],
  "metadata": {
    "colab": {
      "provenance": [],
      "toc_visible": true
    },
    "kernelspec": {
      "display_name": "Python 3",
      "name": "python3"
    },
    "language_info": {
      "name": "python"
    }
  },
  "nbformat": 4,
  "nbformat_minor": 0
}