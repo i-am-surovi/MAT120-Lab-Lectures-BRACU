{
  "nbformat": 4,
  "nbformat_minor": 0,
  "metadata": {
    "colab": {
      "provenance": []
    },
    "kernelspec": {
      "name": "python3",
      "display_name": "Python 3"
    },
    "language_info": {
      "name": "python"
    }
  },
  "cells": [
    {
      "cell_type": "code",
      "execution_count": 2,
      "metadata": {
        "colab": {
          "base_uri": "https://localhost:8080/",
          "height": 39
        },
        "id": "YOEBvaYIvdUd",
        "outputId": "baeace64-02ec-4b01-9997-ffa6a35bff7f"
      },
      "outputs": [
        {
          "output_type": "execute_result",
          "data": {
            "text/plain": [
              "pi"
            ],
            "text/latex": "$\\displaystyle \\pi$"
          },
          "metadata": {},
          "execution_count": 2
        }
      ],
      "source": [
        "import sympy as sp\n",
        "sp.pi\n"
      ]
    },
    {
      "cell_type": "code",
      "source": [
        "x,t=sp.symbols('x t')\n",
        "# Declare a function\n",
        "y=sp.Function('y')(x)\n",
        "y"
      ],
      "metadata": {
        "colab": {
          "base_uri": "https://localhost:8080/",
          "height": 39
        },
        "id": "StO0-CDmv4Xr",
        "outputId": "8d5a66f3-aa7e-4b03-d547-6375131362dc"
      },
      "execution_count": 3,
      "outputs": [
        {
          "output_type": "execute_result",
          "data": {
            "text/plain": [
              "y(x)"
            ],
            "text/latex": "$\\displaystyle y{\\left(x \\right)}$"
          },
          "metadata": {},
          "execution_count": 3
        }
      ]
    },
    {
      "cell_type": "markdown",
      "source": [
        "Solve the following differential equation\n",
        "# $dy/dx = x^2 + 5x $"
      ],
      "metadata": {
        "id": "24rxWccBoUse"
      }
    },
    {
      "cell_type": "code",
      "source": [
        "# First write the differential equation\n",
        "ode1=sp.Eq(sp.diff(y,x,1),(x**2+5*x))\n",
        "ode1"
      ],
      "metadata": {
        "colab": {
          "base_uri": "https://localhost:8080/",
          "height": 52
        },
        "id": "zHY1xLQEw0Kh",
        "outputId": "b39278d8-0c42-4d38-d179-d720d33e33be"
      },
      "execution_count": 5,
      "outputs": [
        {
          "output_type": "execute_result",
          "data": {
            "text/plain": [
              "Eq(Derivative(y(x), x), x**2 + 5*x)"
            ],
            "text/latex": "$\\displaystyle \\frac{d}{d x} y{\\left(x \\right)} = x^{2} + 5 x$"
          },
          "metadata": {},
          "execution_count": 5
        }
      ]
    },
    {
      "cell_type": "code",
      "source": [
        "sp.dsolve(ode1)"
      ],
      "metadata": {
        "colab": {
          "base_uri": "https://localhost:8080/",
          "height": 54
        },
        "id": "j0TmRMYQxo7_",
        "outputId": "09f1eb2d-cfcf-4b21-bcc7-28df512cb78b"
      },
      "execution_count": 6,
      "outputs": [
        {
          "output_type": "execute_result",
          "data": {
            "text/plain": [
              "Eq(y(x), C1 + x**3/3 + 5*x**2/2)"
            ],
            "text/latex": "$\\displaystyle y{\\left(x \\right)} = C_{1} + \\frac{x^{3}}{3} + \\frac{5 x^{2}}{2}$"
          },
          "metadata": {},
          "execution_count": 6
        }
      ]
    },
    {
      "cell_type": "markdown",
      "source": [
        "Solve the second order differential equation\n",
        "# $d^2y/dt^2+dy/dt-6 =0 $"
      ],
      "metadata": {
        "id": "egtDXdJ0pPyc"
      }
    },
    {
      "cell_type": "code",
      "source": [
        "y=sp.Function('y')(t)\n",
        "ode2=sp.Eq((sp.diff(y,t,2)+sp.diff(y,t,1)-6),0)\n",
        "ode2"
      ],
      "metadata": {
        "colab": {
          "base_uri": "https://localhost:8080/",
          "height": 54
        },
        "id": "1OtBe0X2xrrf",
        "outputId": "82e1633a-01a2-438f-9eb5-d9f4bb33eb62"
      },
      "execution_count": 7,
      "outputs": [
        {
          "output_type": "execute_result",
          "data": {
            "text/plain": [
              "Eq(Derivative(y(t), t) + Derivative(y(t), (t, 2)) - 6, 0)"
            ],
            "text/latex": "$\\displaystyle \\frac{d}{d t} y{\\left(t \\right)} + \\frac{d^{2}}{d t^{2}} y{\\left(t \\right)} - 6 = 0$"
          },
          "metadata": {},
          "execution_count": 7
        }
      ]
    },
    {
      "cell_type": "code",
      "source": [
        "sp.dsolve(ode2).simplify()"
      ],
      "metadata": {
        "colab": {
          "base_uri": "https://localhost:8080/",
          "height": 39
        },
        "id": "Y9G0gfyczX5O",
        "outputId": "20c4e98f-c479-4063-8259-0f7897e96589"
      },
      "execution_count": 8,
      "outputs": [
        {
          "output_type": "execute_result",
          "data": {
            "text/plain": [
              "Eq(y(t), C1 + C2*exp(-t) + 6*t)"
            ],
            "text/latex": "$\\displaystyle y{\\left(t \\right)} = C_{1} + C_{2} e^{- t} + 6 t$"
          },
          "metadata": {},
          "execution_count": 8
        }
      ]
    },
    {
      "cell_type": "markdown",
      "source": [
        "Differential equation with intial condition\n",
        "# $dy/dt=t^2 $\n",
        "# $y(0)=1 $"
      ],
      "metadata": {
        "id": "HQHwBbiesH9X"
      }
    },
    {
      "cell_type": "code",
      "source": [
        "y=sp.Function('y')(t)\n",
        "ode3=sp.Eq(sp.diff(y,t,1),t**2)\n",
        "ode3"
      ],
      "metadata": {
        "id": "gfVu0eLqzb2u",
        "colab": {
          "base_uri": "https://localhost:8080/",
          "height": 52
        },
        "outputId": "70888141-955c-418c-b3a1-9035c898c64a"
      },
      "execution_count": 10,
      "outputs": [
        {
          "output_type": "execute_result",
          "data": {
            "text/plain": [
              "Eq(Derivative(y(t), t), t**2)"
            ],
            "text/latex": "$\\displaystyle \\frac{d}{d t} y{\\left(t \\right)} = t^{2}$"
          },
          "metadata": {},
          "execution_count": 10
        }
      ]
    },
    {
      "cell_type": "code",
      "source": [
        "# Pass the initial condition as a dictionary\n",
        "sp.dsolve(ode3,ics={y.subs(t,0):'1'})"
      ],
      "metadata": {
        "colab": {
          "base_uri": "https://localhost:8080/",
          "height": 54
        },
        "id": "ArXaGC4n0--5",
        "outputId": "a9e92a28-ad13-4b2f-9281-63f278a146a6"
      },
      "execution_count": 12,
      "outputs": [
        {
          "output_type": "execute_result",
          "data": {
            "text/plain": [
              "Eq(y(t), t**3/3 + 1)"
            ],
            "text/latex": "$\\displaystyle y{\\left(t \\right)} = \\frac{t^{3}}{3} + 1$"
          },
          "metadata": {},
          "execution_count": 12
        }
      ]
    },
    {
      "cell_type": "markdown",
      "source": [
        "Solve the differential equation of simple harmonic motion with initial conditions\n",
        "# $dy^2/dt^2=-\\omega^2y $\n",
        "# $y(0)=0 $\n",
        "# $y'(0)=1 $"
      ],
      "metadata": {
        "id": "1fbeqzwhtV8D"
      }
    },
    {
      "cell_type": "code",
      "source": [
        "# Define the symbol omega and save it in a variable say w\n",
        "w=sp.symbols('omega')"
      ],
      "metadata": {
        "id": "cLO_h38y2Ykl"
      },
      "execution_count": 14,
      "outputs": []
    },
    {
      "cell_type": "code",
      "source": [
        "# Write the ode and check it\n",
        "SHM=sp.Eq(sp.diff(y,t,2),-w**2*y)\n",
        "display(SHM)"
      ],
      "metadata": {
        "colab": {
          "base_uri": "https://localhost:8080/",
          "height": 54
        },
        "id": "Umxnv-vM2nYF",
        "outputId": "b9b85996-2af9-440d-df33-b4dfce14e9ec"
      },
      "execution_count": 16,
      "outputs": [
        {
          "output_type": "display_data",
          "data": {
            "text/plain": [
              "Eq(Derivative(y(t), (t, 2)), -omega**2*y(t))"
            ],
            "text/latex": "$\\displaystyle \\frac{d^{2}}{d t^{2}} y{\\left(t \\right)} = - \\omega^{2} y{\\left(t \\right)}$"
          },
          "metadata": {}
        }
      ]
    },
    {
      "cell_type": "code",
      "source": [
        "# Solution of the equation without initial conditions\n",
        "sp.dsolve(SHM).simplify()"
      ],
      "metadata": {
        "colab": {
          "base_uri": "https://localhost:8080/",
          "height": 39
        },
        "id": "xrKWuEuI4tbF",
        "outputId": "de329af7-17df-45b1-b6ee-9350fbfa3b4c"
      },
      "execution_count": 17,
      "outputs": [
        {
          "output_type": "execute_result",
          "data": {
            "text/plain": [
              "Eq(y(t), C1*exp(-I*omega*t) + C2*exp(I*omega*t))"
            ],
            "text/latex": "$\\displaystyle y{\\left(t \\right)} = C_{1} e^{- i \\omega t} + C_{2} e^{i \\omega t}$"
          },
          "metadata": {},
          "execution_count": 17
        }
      ]
    },
    {
      "cell_type": "code",
      "source": [
        "# Pass the initial conditions in ics\n",
        "soln=sp.dsolve(SHM,ics={y.subs(t,0):'0',sp.diff(y,t,1).subs(t,0):'1'}).simplify()\n",
        "soln"
      ],
      "metadata": {
        "colab": {
          "base_uri": "https://localhost:8080/",
          "height": 53
        },
        "id": "W19WDtA12jXe",
        "outputId": "1690ced1-23a5-455c-e315-6ef8092a2dfe"
      },
      "execution_count": 24,
      "outputs": [
        {
          "output_type": "execute_result",
          "data": {
            "text/plain": [
              "Eq(y(t), sin(omega*t)/omega)"
            ],
            "text/latex": "$\\displaystyle y{\\left(t \\right)} = \\frac{\\sin{\\left(\\omega t \\right)}}{\\omega}$"
          },
          "metadata": {},
          "execution_count": 24
        }
      ]
    },
    {
      "cell_type": "code",
      "source": [
        "# Get the right hand side of the solution\n",
        "display(soln.rhs)"
      ],
      "metadata": {
        "colab": {
          "base_uri": "https://localhost:8080/",
          "height": 53
        },
        "id": "272ZohrKx_Ek",
        "outputId": "28ee066a-7249-4af3-eada-e97b777ec392"
      },
      "execution_count": 43,
      "outputs": [
        {
          "output_type": "display_data",
          "data": {
            "text/plain": [
              "sin(omega*t)/omega"
            ],
            "text/latex": "$\\displaystyle \\frac{\\sin{\\left(\\omega t \\right)}}{\\omega}$"
          },
          "metadata": {}
        }
      ]
    },
    {
      "cell_type": "markdown",
      "source": [
        "Say $\\omega=\\pi/6$. Display the equation of SHM and see how it's look like."
      ],
      "metadata": {
        "id": "e2BaKEemvo5O"
      }
    },
    {
      "cell_type": "code",
      "source": [
        "from sympy import *\n",
        "value=sp.pi/6"
      ],
      "metadata": {
        "id": "6JZZBwdF7RKk"
      },
      "execution_count": 44,
      "outputs": []
    },
    {
      "cell_type": "code",
      "source": [
        "soln.subs(w,value)"
      ],
      "metadata": {
        "colab": {
          "base_uri": "https://localhost:8080/",
          "height": 56
        },
        "id": "aA4VCNuu6yFU",
        "outputId": "9b3fb2d0-423c-4e68-94ff-bc32542b3cf2"
      },
      "execution_count": 45,
      "outputs": [
        {
          "output_type": "execute_result",
          "data": {
            "text/plain": [
              "Eq(y(t), 6*sin(pi*t/6)/pi)"
            ],
            "text/latex": "$\\displaystyle y{\\left(t \\right)} = \\frac{6 \\sin{\\left(\\frac{\\pi t}{6} \\right)}}{\\pi}$"
          },
          "metadata": {},
          "execution_count": 45
        }
      ]
    },
    {
      "cell_type": "code",
      "source": [
        "sp.plot(soln.subs(w,value).rhs)"
      ],
      "metadata": {
        "id": "0r7TG7Em2hGd",
        "colab": {
          "base_uri": "https://localhost:8080/",
          "height": 504
        },
        "outputId": "5570df37-2997-4e55-fac0-e1ef53674b4d"
      },
      "execution_count": 46,
      "outputs": [
        {
          "output_type": "display_data",
          "data": {
            "text/plain": [
              "<Figure size 640x480 with 1 Axes>"
            ],
            "image/png": "[encoded data removed]"
          },
          "metadata": {}
        },
        {
          "output_type": "execute_result",
          "data": {
            "text/plain": [
              "<sympy.plotting.plot.Plot at 0x7ee66314b040>"
            ]
          },
          "metadata": {},
          "execution_count": 46
        }
      ]
    }
  ]
}