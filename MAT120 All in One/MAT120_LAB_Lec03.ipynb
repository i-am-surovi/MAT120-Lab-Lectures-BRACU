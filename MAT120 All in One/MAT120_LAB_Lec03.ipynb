{
  "nbformat": 4,
  "nbformat_minor": 0,
  "metadata": {
    "colab": {
      "provenance": []
    },
    "kernelspec": {
      "name": "python3",
      "display_name": "Python 3"
    },
    "language_info": {
      "name": "python"
    }
  },
  "cells": [
    {
      "cell_type": "code",
      "execution_count": 1,
      "metadata": {
        "colab": {
          "base_uri": "https://localhost:8080/",
          "height": 39
        },
        "id": "pd-2WoiLmHgK",
        "outputId": "00a09ef2-ce12-4ccf-98c3-8b9f971f90f6"
      },
      "outputs": [
        {
          "output_type": "execute_result",
          "data": {
            "text/plain": [
              "pi"
            ],
            "text/latex": "$\\displaystyle \\pi$"
          },
          "metadata": {},
          "execution_count": 1
        }
      ],
      "source": [
        "# Importing sympy\n",
        "import sympy as sp\n",
        "sp.pi\n"
      ]
    },
    {
      "cell_type": "markdown",
      "source": [
        "# Maxima Minima of Function\n",
        "Change the interval and play with different expressions\n",
        "\n"
      ],
      "metadata": {
        "id": "51X2e5ZX7Fo4"
      }
    },
    {
      "cell_type": "code",
      "source": [
        "# Declaring symbols\n",
        "x=sp.symbols('x')\n",
        "\n",
        "# Writing the expression\n",
        "y=x**4-2/3*x**3-2*x**2+2*x\n",
        "\n",
        "# first derivative\n",
        "diff1=sp.diff(y,x,1)\n",
        "# Second derivative\n",
        "diff2=sp.diff(y,x,2)\n",
        "\n",
        "# solution of first derivative\n",
        "soln=sp.solve(diff1)\n",
        "\n",
        "# Finding real solution within interval\n",
        "soln1=[]\n",
        "for i in range(len(soln)):\n",
        "  # Checking imaginary solutions\n",
        "  if sp.im(soln[i])!=0:\n",
        "    continue\n",
        "  # Checking solutions within range 0 to 1\n",
        "  elif soln[i].evalf()>=0 and soln[i].evalf()<=1:\n",
        "    soln1.append(soln[i])\n",
        "  else:\n",
        "    continue\n",
        "\n",
        "\n",
        "# Finding the maximum and minimum value\n",
        "\n",
        "if len(soln1)>0:\n",
        "  for k in range(len(soln1)):\n",
        "    # Checking if soln1[k] corresponds to maxima\n",
        "    if diff2.subs(x,soln1[k])<0:\n",
        "      max_pt=soln1[k]\n",
        "      # Evaluating the maximum value\n",
        "      max_val=y.subs(x,soln1[k]).evalf()\n",
        "      print(f'The maximum value of the function at {max_pt} is {max_val}')\n",
        "    # Checking if soln1[k] corresponds to manima\n",
        "    elif diff2.subs(x,soln1[k])>0:\n",
        "      min_pt=soln1[k]\n",
        "      # Evaluating the minimum value\n",
        "      min_val=y.subs(x,soln1[k]).evalf()\n",
        "      print(f'The mimimum value of the function at {min_pt} is {min_val}')\n",
        "else:\n",
        "  print(\"No maxima or minima of the function within the given range.\")\n"
      ],
      "metadata": {
        "colab": {
          "base_uri": "https://localhost:8080/"
        },
        "id": "4X-DcKpamv9K",
        "outputId": "aed18737-3111-44a8-f741-287c4ceb8137"
      },
      "execution_count": 64,
      "outputs": [
        {
          "output_type": "stream",
          "name": "stdout",
          "text": [
            "The maximum value of the function at 0.500000000000000 is 0.479166666666667\n",
            "The mimimum value of the function at 1.00000000000000 is 0.333333333333333\n"
          ]
        }
      ]
    },
    {
      "cell_type": "code",
      "source": [
        "# Plotting markers corresponding to maximum and minimum value\n",
        "p1=sp.plot(y,(x,0,1.5),markers=[{'args': [max_pt,max_val,'r*'], 'ms': 10},\n",
        "                             {'args': [min_pt,min_val,'r*'], 'ms': 10}],show=False)\n",
        "p2=sp.plot(max_val,(x,0.2,0.8),line_color='red',show=False)\n",
        "p3=sp.plot(min_val,(x,0.8,1.2),line_color='red',show=False)\n",
        "p1.extend(p2)\n",
        "p1.extend(p3)\n",
        "p1.show()"
      ],
      "metadata": {
        "id": "lcMtlmklnUj4",
        "colab": {
          "base_uri": "https://localhost:8080/",
          "height": 484
        },
        "outputId": "c7efd214-a5bb-4810-8642-e650c4c8505d"
      },
      "execution_count": 57,
      "outputs": [
        {
          "output_type": "display_data",
          "data": {
            "text/plain": [
              "<Figure size 640x480 with 1 Axes>"
            ],
            "image/png": "[encoded data removed]"
          },
          "metadata": {}
        }
      ]
    },
    {
      "cell_type": "code",
      "source": [
        "# Solving using sympy solveset function\n",
        "z=sp.sin(x)\n",
        "sp.solveset(z)"
      ],
      "metadata": {
        "colab": {
          "base_uri": "https://localhost:8080/",
          "height": 39
        },
        "id": "efiBv9QoInmj",
        "outputId": "811ac4cf-fd92-4d20-9572-5be5098f6ab6"
      },
      "execution_count": 59,
      "outputs": [
        {
          "output_type": "execute_result",
          "data": {
            "text/plain": [
              "{2⋅n⋅π │ n ∊ ℤ} ∪ {2⋅n⋅π + π │ n ∊ ℤ}"
            ],
            "text/latex": "$\\displaystyle \\left\\{2 n \\pi\\; \\middle|\\; n \\in \\mathbb{Z}\\right\\} \\cup \\left\\{2 n \\pi + \\pi\\; \\middle|\\; n \\in \\mathbb{Z}\\right\\}$"
          },
          "metadata": {},
          "execution_count": 59
        }
      ]
    },
    {
      "cell_type": "code",
      "source": [
        "# Setting interval in the solveset function\n",
        "from sympy import Interval\n",
        "# Solveset by default gives solutions within the range as a python set\n",
        "sp.solveset(z,x,Interval(0,2*sp.pi))"
      ],
      "metadata": {
        "colab": {
          "base_uri": "https://localhost:8080/",
          "height": 39
        },
        "id": "b-pvA-4kIw-u",
        "outputId": "cecb8129-40d7-44a3-ef5e-34cb444d1637"
      },
      "execution_count": 61,
      "outputs": [
        {
          "output_type": "execute_result",
          "data": {
            "text/plain": [
              "{0, π, 2⋅π}"
            ],
            "text/latex": "$\\displaystyle \\left\\{0, \\pi, 2 \\pi\\right\\}$"
          },
          "metadata": {},
          "execution_count": 61
        }
      ]
    },
    {
      "cell_type": "markdown",
      "source": [
        "#Determining maxima-minima of a function within a given interval using solveset() Function"
      ],
      "metadata": {
        "id": "wXuVn6VpJy1W"
      }
    },
    {
      "cell_type": "code",
      "source": [
        "# Declaring symbols\n",
        "x=sp.symbols('x')\n",
        "\n",
        "# Writing the expression\n",
        "y=x**4-2/3*x**3-2*x**2+2*x\n",
        "\n",
        "# first derivative\n",
        "diff1=sp.diff(y,x,1)\n",
        "# Second derivative\n",
        "diff2=sp.diff(y,x,2)\n",
        "\n",
        "# solution of first derivative within interval\n",
        "soln=sp.solveset(diff1,x,Interval(0,1))\n",
        "# Changing the solution set into a list\n",
        "soln1=list(soln)\n",
        "\n",
        "# Finding the maximum and minimum value\n",
        "if len(soln1)>0:\n",
        "  for k in range(len(soln1)):\n",
        "    # Checking imaginary solutions\n",
        "    if sp.im(soln1[k])!=0:\n",
        "       continue\n",
        "    # Checking if soln1[k] corresponds to maxima\n",
        "    elif diff2.subs(x,soln1[k])<0:\n",
        "      max_pt=soln1[k]\n",
        "      # Evaluating the maximum value\n",
        "      max_val=y.subs(x,soln1[k]).evalf()\n",
        "      print(f'The maximum value of the function at {max_pt} is {max_val}')\n",
        "    # Checking if soln1[k] corresponds to manima\n",
        "    elif diff2.subs(x,soln1[k])>0:\n",
        "      min_pt=soln1[k]\n",
        "      # Evaluating the minimum value\n",
        "      min_val=y.subs(x,soln1[k]).evalf()\n",
        "      print(f'The mimimum value of the function at {min_pt} is {min_val}')\n",
        "else:\n",
        "  print(\"No maxima or minima of the function within the given range.\")\n",
        "\n"
      ],
      "metadata": {
        "colab": {
          "base_uri": "https://localhost:8080/"
        },
        "id": "ZXK2Ouxl_VxU",
        "outputId": "5475a300-f401-428d-a5d5-63cabf022d53"
      },
      "execution_count": 72,
      "outputs": [
        {
          "output_type": "stream",
          "name": "stdout",
          "text": [
            "The maximum value of the function at 0.500000000000000 is 0.479166666666667\n",
            "The mimimum value of the function at 1.00000000000000 is 0.333333333333333\n"
          ]
        }
      ]
    }
  ]
}